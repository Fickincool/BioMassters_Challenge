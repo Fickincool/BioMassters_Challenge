{
 "cells": [
  {
   "cell_type": "code",
   "execution_count": 1,
   "id": "11370973-d243-4bad-b26b-25924d89388d",
   "metadata": {},
   "outputs": [],
   "source": [
    "import bioMass.dataViz as dv\n",
    "from bioMass.dataloader import SentinelDataset, SentinelDataModule\n",
    "from bioMass.model import Unet\n",
    "from pytorch_lightning import Trainer\n",
    "import matplotlib.pyplot as plt\n",
    "import torch\n",
    "from torch.utils.data import DataLoader, random_split\n",
    "from tqdm.notebook import tqdm\n",
    "from torch import nn\n",
    "import os\n",
    "import numpy as np\n",
    "import pandas as pd\n",
    "\n",
    "from pytorch_lightning import loggers as pl_loggers\n",
    "\n",
    "%config Completer.use_jedi = False\n",
    "%matplotlib inline\n",
    "%load_ext autoreload\n",
    "%autoreload 2"
   ]
  },
  {
   "cell_type": "code",
   "execution_count": 2,
   "id": "3c46ef19-28e0-41eb-bbb2-f2f1169817f9",
   "metadata": {},
   "outputs": [
    {
     "name": "stderr",
     "output_type": "stream",
     "text": [
      "GPU available: True (cuda), used: True\n",
      "TPU available: False, using: 0 TPU cores\n",
      "IPU available: False, using: 0 IPUs\n",
      "HPU available: False, using: 0 HPUs\n"
     ]
    }
   ],
   "source": [
    "tensorboard_logdir = '/home/ubuntu/Thesis/backup_data/bioMass_data/model_logs/tryouts'\n",
    "\n",
    "logger = pl_loggers.TensorBoardLogger(\n",
    "    tensorboard_logdir, name=\"\", default_hp_metric=False\n",
    ")\n",
    "\n",
    "trainer = Trainer(logger=logger, accelerator='gpu', max_epochs=2, devices=1, log_every_n_steps=1)\n",
    "# trainer = Trainer(logger=logger, accelerator='gpu', max_epochs=1000, devices=1, log_every_n_steps=1, overfit_batches=1)"
   ]
  },
  {
   "cell_type": "code",
   "execution_count": 3,
   "id": "01d41d3a-d63e-449f-b336-cbe7be19c206",
   "metadata": {},
   "outputs": [
    {
     "name": "stderr",
     "output_type": "stream",
     "text": [
      "/home/ubuntu/Thesis/miniconda3/envs/bioMass/lib/python3.9/site-packages/pytorch_lightning/utilities/parsing.py:262: UserWarning: Attribute 'loss_fn' is an instance of `nn.Module` and is already saved during checkpointing. It is recommended to ignore them using `self.save_hyperparameters(ignore=['loss_fn'])`.\n",
      "  rank_zero_warn(\n",
      "LOCAL_RANK: 0 - CUDA_VISIBLE_DEVICES: [0,1]\n",
      "\n",
      "   | Name    | Type       | Params\n",
      "----------------------------------------\n",
      "0  | maxpool | MaxPool2d  | 0     \n",
      "1  | up      | Upsample   | 0     \n",
      "2  | EB0     | Sequential | 45.6 K\n",
      "3  | EB1     | Sequential | 221 K \n",
      "4  | EB2     | Sequential | 885 K \n",
      "5  | EB3     | Sequential | 3.5 M \n",
      "6  | Bottom  | Sequential | 4.7 M \n",
      "7  | DB2     | Sequential | 2.4 M \n",
      "8  | DB1     | Sequential | 589 K \n",
      "9  | DB0     | Sequential | 147 K \n",
      "10 | out     | Sequential | 73.9 K\n",
      "11 | loss_fn | MSELoss    | 0     \n",
      "----------------------------------------\n",
      "12.6 M    Trainable params\n",
      "0         Non-trainable params\n",
      "12.6 M    Total params\n",
      "50.331    Total estimated model params size (MB)\n"
     ]
    },
    {
     "data": {
      "application/vnd.jupyter.widget-view+json": {
       "model_id": "",
       "version_major": 2,
       "version_minor": 0
      },
      "text/plain": [
       "Sanity Checking: 0it [00:00, ?it/s]"
      ]
     },
     "metadata": {},
     "output_type": "display_data"
    },
    {
     "name": "stderr",
     "output_type": "stream",
     "text": [
      "/home/ubuntu/Thesis/miniconda3/envs/bioMass/lib/python3.9/site-packages/pytorch_lightning/trainer/connectors/data_connector.py:224: PossibleUserWarning: The dataloader, val_dataloader 0, does not have many workers which may be a bottleneck. Consider increasing the value of the `num_workers` argument` (try 24 which is the number of cpus on this machine) in the `DataLoader` init to improve performance.\n",
      "  rank_zero_warn(\n",
      "/home/ubuntu/Thesis/miniconda3/envs/bioMass/lib/python3.9/site-packages/pytorch_lightning/trainer/connectors/data_connector.py:224: PossibleUserWarning: The dataloader, train_dataloader, does not have many workers which may be a bottleneck. Consider increasing the value of the `num_workers` argument` (try 24 which is the number of cpus on this machine) in the `DataLoader` init to improve performance.\n",
      "  rank_zero_warn(\n"
     ]
    },
    {
     "data": {
      "application/vnd.jupyter.widget-view+json": {
       "model_id": "74ff1b4e001f47fd89f1481b837e66df",
       "version_major": 2,
       "version_minor": 0
      },
      "text/plain": [
       "Training: 0it [00:00, ?it/s]"
      ]
     },
     "metadata": {},
     "output_type": "display_data"
    },
    {
     "data": {
      "application/vnd.jupyter.widget-view+json": {
       "model_id": "",
       "version_major": 2,
       "version_minor": 0
      },
      "text/plain": [
       "Validation: 0it [00:00, ?it/s]"
      ]
     },
     "metadata": {},
     "output_type": "display_data"
    },
    {
     "data": {
      "application/vnd.jupyter.widget-view+json": {
       "model_id": "",
       "version_major": 2,
       "version_minor": 0
      },
      "text/plain": [
       "Validation: 0it [00:00, ?it/s]"
      ]
     },
     "metadata": {},
     "output_type": "display_data"
    },
    {
     "name": "stderr",
     "output_type": "stream",
     "text": [
      "`Trainer.fit` stopped: `max_epochs=2` reached.\n"
     ]
    }
   ],
   "source": [
    "loss_module = nn.MSELoss(reduction='mean')\n",
    "\n",
    "dm = SentinelDataModule(loader_type='PCA', max_chips=100, loader_device='cpu', num_workers=1)\n",
    "model = Unet(loss_fn=loss_module, lr=1e-4, init_n_features=64, in_channels=15, dropout_p=0.5)\n",
    "\n",
    "trainer.fit(model, datamodule=dm)"
   ]
  },
  {
   "cell_type": "code",
   "execution_count": null,
   "id": "b19e55e1-b8b4-496b-a1f5-e2c6a9a6498c",
   "metadata": {},
   "outputs": [],
   "source": [
    "SentinelDataModule(loader_type='PCA', max_chips=100, loader_device='cpu', num_workers=1)"
   ]
  },
  {
   "cell_type": "code",
   "execution_count": 25,
   "id": "d2fa8133-d41b-4a15-b617-152c21e16971",
   "metadata": {},
   "outputs": [],
   "source": [
    "dm_params = {'loader_type':'PCA', 'max_chips':100, 'loader_device':'cpu', 'num_workers':1}"
   ]
  },
  {
   "cell_type": "code",
   "execution_count": 27,
   "id": "a697014e-8133-4690-9854-7552cee4792b",
   "metadata": {},
   "outputs": [
    {
     "data": {
      "text/plain": [
       "'PCA'"
      ]
     },
     "execution_count": 27,
     "metadata": {},
     "output_type": "execute_result"
    }
   ],
   "source": [
    "SentinelDataModule(**dm_params).loader_type"
   ]
  },
  {
   "cell_type": "code",
   "execution_count": 24,
   "id": "3fcf6f3d-5a80-4b2b-88b3-2fa96798e7b8",
   "metadata": {},
   "outputs": [
    {
     "data": {
      "text/plain": [
       "[0.7, 0.2, 0.1]"
      ]
     },
     "execution_count": 24,
     "metadata": {},
     "output_type": "execute_result"
    }
   ],
   "source": [
    "getattr(dm, 'split_proportions')"
   ]
  },
  {
   "cell_type": "code",
   "execution_count": 5,
   "id": "d85cfc52-885a-41e5-99e8-54ec7b6282fb",
   "metadata": {},
   "outputs": [
    {
     "data": {
      "text/plain": [
       "\"dropout_p\":       0.5\n",
       "\"in_channels\":     15\n",
       "\"init_n_features\": 64\n",
       "\"loss_fn\":         MSELoss()\n",
       "\"lr\":              0.0001"
      ]
     },
     "execution_count": 5,
     "metadata": {},
     "output_type": "execute_result"
    }
   ],
   "source": [
    "model.hparams"
   ]
  },
  {
   "cell_type": "code",
   "execution_count": 11,
   "id": "48a33ee0-d4f8-46cd-9597-d9943c1ea0ad",
   "metadata": {},
   "outputs": [],
   "source": [
    "new_hparams = model.hparams\n",
    "new_hparams['new_param'] = 0"
   ]
  },
  {
   "cell_type": "code",
   "execution_count": 13,
   "id": "a093b604-fef9-4459-a58b-00f7a1f8e275",
   "metadata": {},
   "outputs": [],
   "source": [
    "model.hparams['new_param'] = 'test'"
   ]
  },
  {
   "cell_type": "code",
   "execution_count": 19,
   "id": "22d1b50c-133b-44ed-80c9-53ed5e303cd7",
   "metadata": {},
   "outputs": [
    {
     "name": "stderr",
     "output_type": "stream",
     "text": [
      "/home/ubuntu/Thesis/miniconda3/envs/bioMass/lib/python3.9/site-packages/pytorch_lightning/utilities/parsing.py:262: UserWarning: Attribute 'loss_fn' is an instance of `nn.Module` and is already saved during checkpointing. It is recommended to ignore them using `self.save_hyperparameters(ignore=['loss_fn'])`.\n",
      "  rank_zero_warn(\n"
     ]
    }
   ],
   "source": [
    "model.save_hyperparameters()"
   ]
  },
  {
   "cell_type": "code",
   "execution_count": 29,
   "id": "d833a750-326d-46f6-8ab4-69d6e63f9202",
   "metadata": {},
   "outputs": [],
   "source": [
    "# update hyperparameters\n",
    "import yaml"
   ]
  },
  {
   "cell_type": "code",
   "execution_count": 34,
   "id": "79ffeb04-b46f-4021-b520-b255bcb95d55",
   "metadata": {},
   "outputs": [
    {
     "name": "stdout",
     "output_type": "stream",
     "text": [
      "{'dropout_p': '0.5', 'in_channels': '15', 'init_n_features': '64', 'loss_fn': {'_backward_hooks': [[]], '_buffers': [[]], '_forward_hooks': [[]], '_forward_pre_hooks': [[]], '_is_full_backward_hook': 'null', '_load_state_dict_post_hooks': [[]], '_load_state_dict_pre_hooks': [[]], '_modules': [[]], '_non_persistent_buffers_set': {}, '_parameters': [[]], '_state_dict_hooks': [[]], 'reduction': 'mean', 'training': 'true'}, 'lr': '0.0001'}\n"
     ]
    }
   ],
   "source": [
    "fname = os.path.join(model.logger.log_dir, 'hparams.yaml')\n",
    "\n",
    "with open(fname) as f:\n",
    "    newdct = yaml.load(f, Loader=yaml.BaseLoader)\n",
    "\n",
    "print(newdct)"
   ]
  },
  {
   "cell_type": "code",
   "execution_count": 35,
   "id": "fa94d925-c4a0-4207-bfd2-a0723dc24d89",
   "metadata": {},
   "outputs": [],
   "source": [
    "newdct[\"dm_params\"] = dm_params"
   ]
  },
  {
   "cell_type": "code",
   "execution_count": 37,
   "id": "cfde664e-adcd-49b6-9c96-a068b47a824a",
   "metadata": {},
   "outputs": [],
   "source": [
    "with open(fname, \"w\") as f:\n",
    "    yaml.dump(newdct, f)"
   ]
  },
  {
   "cell_type": "code",
   "execution_count": null,
   "id": "b0447d9c-86f2-41bd-854f-37292eff8d8d",
   "metadata": {},
   "outputs": [],
   "source": []
  }
 ],
 "metadata": {
  "kernelspec": {
   "display_name": "Python 3 (ipykernel)",
   "language": "python",
   "name": "python3"
  },
  "language_info": {
   "codemirror_mode": {
    "name": "ipython",
    "version": 3
   },
   "file_extension": ".py",
   "mimetype": "text/x-python",
   "name": "python",
   "nbconvert_exporter": "python",
   "pygments_lexer": "ipython3",
   "version": "3.9.15"
  }
 },
 "nbformat": 4,
 "nbformat_minor": 5
}
