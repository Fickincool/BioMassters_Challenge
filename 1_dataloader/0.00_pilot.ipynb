{
 "cells": [
  {
   "cell_type": "code",
   "execution_count": 1,
   "id": "301e4bd5-a12f-4ea1-910e-b9d1ea91e54c",
   "metadata": {},
   "outputs": [],
   "source": [
    "import pandas as pd\n",
    "import tifffile\n",
    "import cv2\n",
    "import numpy as np\n",
    "import os\n",
    "from torch.utils.data import Dataset\n",
    "import torch\n",
    "from glob import glob\n",
    "import warnings\n",
    "import matplotlib.pyplot as plt\n",
    "# warnings.filterwarnings(\"ignore\", category=rasterio.errors.NotGeoreferencedWarning)"
   ]
  },
  {
   "cell_type": "code",
   "execution_count": 2,
   "id": "0ac80886-727e-4305-b9fb-a4f9183aae1e",
   "metadata": {},
   "outputs": [],
   "source": [
    "class SentinelDataset(Dataset):\n",
    "    '''Sentinel 1 & 2 dataset.'''\n",
    "\n",
    "    def __init__(self, dir_tiles, dir_target,\n",
    "                 max_chips=None, transform=None, device='cpu'\n",
    "                 ):\n",
    "        '''\n",
    "        Args:\n",
    "            dir_tiles -- path to directory containing Sentinel data tiles\n",
    "            dir_target -- path to directory containing target data (AGWB) tiles\n",
    "            max_chips -- maximum number of chips to load, used for testing, None --> load all\n",
    "            transform -- transforms to apply to each sample/batch\n",
    "            device -- device to load data onto ('cpu', 'mps', 'cuda')\n",
    "        '''\n",
    "        \n",
    "        self.tile_list = glob(dir_tiles+'*')\n",
    "        self.tile_list = np.unique([x.split('/')[-1].split('_')[0] for x\n",
    "                                    in self.tile_list if x.endswith('tif')])\n",
    "        \n",
    "        if max_chips:\n",
    "            self.tile_list = self.tile_list[:max_chips]\n",
    "            \n",
    "        self.dir_tiles = dir_tiles\n",
    "        self.dir_target = dir_target\n",
    "        self.device = device\n",
    "        self.transform = transform\n",
    "        \n",
    "        return\n",
    "    \n",
    "    def __len__(self):\n",
    "        return len(self.tile_list)\n",
    "    \n",
    "    def __getitem__(self, idx):\n",
    "        chipid = self.tile_list[idx]\n",
    "        \n",
    "        # Sentinel 1\n",
    "        try:\n",
    "            s1_tile = self._load_sentinel_tiles('S1', chipid)\n",
    "            s1_tile_scaled = self._scale_channels(s1_tile)\n",
    "        except:\n",
    "            # print(f'Data load failure for S1: {chipid}')\n",
    "            s1_tile_scaled = torch.full([4, 256, 256], torch.nan, dtype=torch.float32, requires_grad=False, device=self.device)\n",
    "        # Sentinel 2\n",
    "        try:\n",
    "            s2_tile = self._load_sentinel_tiles('S2', chipid)\n",
    "            s2_tile_scaled = self._scale_channels(s2_tile)\n",
    "        except:\n",
    "            # print(f'Data load failure for S2: {chipid} {month}')\n",
    "            s2_tile_scaled = torch.full([11, 256, 256], torch.nan, dtype=torch.float32, requires_grad=False, device=self.device)\n",
    "\n",
    "        # sentinel_tile = torch.cat([s2_tile_scaled, s1_tile_scaled], axis=0)\n",
    "\n",
    "        if self.dir_target:\n",
    "            target_tile = self._load_agbm_tile(chipid)\n",
    "            target_tile = target_tile.clamp(target_tile.min(), target_tile.quantile(0.99)).unsqueeze(0)\n",
    "        else:\n",
    "            target_tile = torch.full([1, 256, 256], torch.nan, dtype=torch.float32, requires_grad=False, device=self.device)\n",
    "\n",
    "        sample = {'image_s1': s1_tile_scaled, 'image_s2': s2_tile_scaled,\n",
    "                  'label': target_tile} # 'image' and 'label' are used by torchgeo\n",
    "\n",
    "        if self.transform:\n",
    "            sample = self.transform(sample)\n",
    "\n",
    "        return sample\n",
    "    \n",
    "    def _read_tif_to_tensor(self, tif_path):\n",
    "        X = tifffile.imread(tif_path).astype(np.float32)\n",
    "        X = torch.tensor(X,\n",
    "                         dtype=torch.float32,\n",
    "                         device=self.device,\n",
    "                         requires_grad=False,\n",
    "                         )\n",
    "        return X\n",
    "\n",
    "    def _load_sentinel_tiles(self, sentinel_type, chipid):\n",
    "        file_name = f'{chipid}_{sentinel_type}.tif'\n",
    "        tile_path = os.path.join(self.dir_tiles, file_name)\n",
    "        return self._read_tif_to_tensor(tile_path)\n",
    "\n",
    "    def _load_agbm_tile(self, chipid):\n",
    "        target_path = os.path.join(self.dir_target,\n",
    "                                   f'{chipid}_agbm.tif')\n",
    "        return self._read_tif_to_tensor(target_path)\n",
    "    \n",
    "    def _scale_channels(self, x, top_quantile=0.99):\n",
    "        \n",
    "        assert len(x.shape)==3\n",
    "        \n",
    "        Ms = x.flatten(1, 2).quantile(0.99, dim=1, keepdim=True).unsqueeze(-1)\n",
    "        ms = torch.amin(x, dim=(1, 2), keepdim=True)\n",
    "        scaled = (x-ms)/(Ms-ms)\n",
    "        scaled = scaled.clamp(0,1)\n",
    "        \n",
    "        return scaled"
   ]
  },
  {
   "cell_type": "code",
   "execution_count": 3,
   "id": "91c08ee8-dba4-44f3-9d9e-7bd094233404",
   "metadata": {},
   "outputs": [],
   "source": [
    "dir_tiles = '/home/ubuntu/Thesis/backup_data/bioMass_data/train_PCA_warm/'\n",
    "dir_target = '/home/ubuntu/Thesis/backup_data/bioMass_data/train_agbm/'\n",
    "\n",
    "dataset = SentinelDataset(dir_tiles, dir_target, max_chips=500)"
   ]
  },
  {
   "cell_type": "code",
   "execution_count": 4,
   "id": "b26419de-250c-4b15-8d73-3ad8eea86a1c",
   "metadata": {},
   "outputs": [
    {
     "data": {
      "text/plain": [
       "500"
      ]
     },
     "execution_count": 4,
     "metadata": {},
     "output_type": "execute_result"
    }
   ],
   "source": [
    "len(dataset)"
   ]
  },
  {
   "cell_type": "code",
   "execution_count": 5,
   "id": "1d88d74f-5605-4c7a-ab4b-02b2d12975c4",
   "metadata": {},
   "outputs": [],
   "source": [
    "test_tile = '/home/ubuntu/Thesis/backup_data/bioMass_data/train_PCA_warm/d961dfda_S2.tif'\n",
    "x = torch.tensor(tifffile.imread(test_tile))"
   ]
  },
  {
   "cell_type": "code",
   "execution_count": 6,
   "id": "a5843116-bd04-4899-9e2f-58b08e83e5ec",
   "metadata": {},
   "outputs": [
    {
     "data": {
      "text/plain": [
       "torch.Size([11, 256, 256])"
      ]
     },
     "execution_count": 6,
     "metadata": {},
     "output_type": "execute_result"
    }
   ],
   "source": [
    "x.shape"
   ]
  },
  {
   "cell_type": "code",
   "execution_count": 8,
   "id": "78c2cfe7-7e43-49d7-8c64-652f7907bd38",
   "metadata": {},
   "outputs": [
    {
     "data": {
      "text/plain": [
       "tensor([[[-1., -1., -1.,  ..., -1., -1., -1.],\n",
       "         [-1., -1., -1.,  ..., -1., -1., -1.],\n",
       "         [-1., -1., -1.,  ..., -1., -1., -1.],\n",
       "         ...,\n",
       "         [-1., -1., -1.,  ..., -1., -1., -1.],\n",
       "         [-1., -1., -1.,  ..., -1., -1., -1.],\n",
       "         [-1., -1., -1.,  ..., -1., -1., -1.]],\n",
       "\n",
       "        [[-1., -1., -1.,  ..., -1., -1., -1.],\n",
       "         [-1., -1., -1.,  ..., -1., -1., -1.],\n",
       "         [-1., -1., -1.,  ..., -1., -1., -1.],\n",
       "         ...,\n",
       "         [-1., -1., -1.,  ..., -1., -1., -1.],\n",
       "         [-1., -1., -1.,  ..., -1., -1., -1.],\n",
       "         [-1., -1., -1.,  ..., -1., -1., -1.]],\n",
       "\n",
       "        [[-1., -1., -1.,  ..., -1., -1., -1.],\n",
       "         [-1., -1., -1.,  ..., -1., -1., -1.],\n",
       "         [-1., -1., -1.,  ..., -1., -1., -1.],\n",
       "         ...,\n",
       "         [-1., -1., -1.,  ..., -1., -1., -1.],\n",
       "         [-1., -1., -1.,  ..., -1., -1., -1.],\n",
       "         [-1., -1., -1.,  ..., -1., -1., -1.]],\n",
       "\n",
       "        ...,\n",
       "\n",
       "        [[-1., -1., -1.,  ..., -1., -1., -1.],\n",
       "         [-1., -1., -1.,  ..., -1., -1., -1.],\n",
       "         [-1., -1., -1.,  ..., -1., -1., -1.],\n",
       "         ...,\n",
       "         [-1., -1., -1.,  ..., -1., -1., -1.],\n",
       "         [-1., -1., -1.,  ..., -1., -1., -1.],\n",
       "         [-1., -1., -1.,  ..., -1., -1., -1.]],\n",
       "\n",
       "        [[-1., -1., -1.,  ..., -1., -1., -1.],\n",
       "         [-1., -1., -1.,  ..., -1., -1., -1.],\n",
       "         [-1., -1., -1.,  ..., -1., -1., -1.],\n",
       "         ...,\n",
       "         [-1., -1., -1.,  ..., -1., -1., -1.],\n",
       "         [-1., -1., -1.,  ..., -1., -1., -1.],\n",
       "         [-1., -1., -1.,  ..., -1., -1., -1.]],\n",
       "\n",
       "        [[ 0.,  1.,  1.,  ...,  1.,  1.,  1.],\n",
       "         [ 1.,  1.,  1.,  ...,  1.,  1.,  1.],\n",
       "         [ 1.,  1.,  1.,  ...,  1.,  1.,  1.],\n",
       "         ...,\n",
       "         [ 1.,  1.,  1.,  ...,  1.,  1.,  1.],\n",
       "         [ 1.,  1.,  1.,  ...,  1.,  1.,  1.],\n",
       "         [ 1.,  1.,  1.,  ...,  1.,  1.,  1.]]], dtype=torch.float64)"
      ]
     },
     "execution_count": 8,
     "metadata": {},
     "output_type": "execute_result"
    }
   ],
   "source": [
    "dataset._scale_channels(x).nan_to_num_(-1)"
   ]
  },
  {
   "cell_type": "code",
   "execution_count": 8,
   "id": "8592a8fa-3db9-49c0-b9a4-7646d9641323",
   "metadata": {},
   "outputs": [
    {
     "data": {
      "text/plain": [
       "torch.Size([1, 256, 256])"
      ]
     },
     "execution_count": 8,
     "metadata": {},
     "output_type": "execute_result"
    }
   ],
   "source": [
    "x = dataset[0]['label']\n",
    "x.shape"
   ]
  },
  {
   "cell_type": "code",
   "execution_count": 9,
   "id": "64aae50b-d210-4b3a-a6e9-089c543324dd",
   "metadata": {},
   "outputs": [
    {
     "data": {
      "text/plain": [
       "tensor([32.3800])"
      ]
     },
     "execution_count": 9,
     "metadata": {},
     "output_type": "execute_result"
    }
   ],
   "source": [
    "torch.amax(x, dim=(1, 2))"
   ]
  },
  {
   "cell_type": "markdown",
   "id": "74341c29-18ce-4d3e-b857-d3c994860711",
   "metadata": {},
   "source": [
    "# Set up dataloader"
   ]
  },
  {
   "cell_type": "code",
   "execution_count": 104,
   "id": "8b992f34-8136-4141-ab55-af38a4a356ee",
   "metadata": {},
   "outputs": [],
   "source": [
    "from torch.utils.data import DataLoader, random_split"
   ]
  },
  {
   "cell_type": "code",
   "execution_count": 105,
   "id": "1e13f390-8ad8-4a76-bc4a-74de2e212627",
   "metadata": {},
   "outputs": [
    {
     "name": "stdout",
     "output_type": "stream",
     "text": [
      "N training samples: 500\n"
     ]
    },
    {
     "name": "stderr",
     "output_type": "stream",
     "text": [
      "/home/ubuntu/Thesis/miniconda3/envs/bioMass/lib/python3.9/site-packages/torch/utils/data/dataset.py:342: UserWarning: Length of split at index 1 is 0. This might result in an empty dataset.\n",
      "  warnings.warn(f\"Length of split at index {i} is 0. \"\n"
     ]
    }
   ],
   "source": [
    "torch.manual_seed(0)\n",
    "\n",
    "train_frac = 1\n",
    "train_dataset, val_dataset = random_split(dataset, [train_frac, 1-train_frac])\n",
    "print(f'N training samples: {len(train_dataset)}')"
   ]
  },
  {
   "cell_type": "code",
   "execution_count": 76,
   "id": "1fb0f72e-ab13-406b-a546-ac5e811bdb87",
   "metadata": {},
   "outputs": [],
   "source": [
    "batch_size = 5  # Note: training speed is sensitive to memory usage\n",
    "                 # set this as high as you can without significantly slowing down training time \n",
    "num_workers = 2\n",
    "train_dataloader = DataLoader(train_dataset,\n",
    "                              batch_size=batch_size,\n",
    "                              shuffle=True,\n",
    "                              num_workers=num_workers,\n",
    "                              pin_memory=True\n",
    "                             )\n",
    "val_dataloader = DataLoader(val_dataset,\n",
    "                            batch_size=batch_size,\n",
    "                            shuffle=False,\n",
    "                            num_workers=num_workers,\n",
    "                            pin_memory=True\n",
    "                           )"
   ]
  },
  {
   "cell_type": "code",
   "execution_count": 88,
   "id": "4b0f208b-e9b6-4f93-ac5d-3f0bc40e3fd7",
   "metadata": {},
   "outputs": [],
   "source": [
    "for sample in train_dataloader:\n",
    "    sample\n",
    "    break"
   ]
  },
  {
   "cell_type": "code",
   "execution_count": 78,
   "id": "2f912d75-476d-4272-8192-42118caa2cc7",
   "metadata": {},
   "outputs": [
    {
     "data": {
      "text/plain": [
       "torch.Size([5, 11, 256, 256])"
      ]
     },
     "execution_count": 78,
     "metadata": {},
     "output_type": "execute_result"
    }
   ],
   "source": [
    "sample['image_s2'].shape"
   ]
  },
  {
   "cell_type": "markdown",
   "id": "95d8bb84-d7bf-4b89-b686-e9578487adc7",
   "metadata": {},
   "source": [
    "## Does more n_workers improve loading speed?\n",
    "\n",
    "It seems that it doesn't change much. Batch size does, tho."
   ]
  },
  {
   "cell_type": "code",
   "execution_count": 85,
   "id": "78bc34ae-2295-4b55-9f5c-6e4322819cdd",
   "metadata": {},
   "outputs": [],
   "source": [
    "import timeit\n",
    "from functools import partial\n",
    "\n",
    "def sample_one(dataloader):\n",
    "    for sample in train_dataloader:\n",
    "        sample\n",
    "        break\n",
    "    return"
   ]
  },
  {
   "cell_type": "code",
   "execution_count": 106,
   "id": "080af46c-774c-4693-a394-7defefbe438b",
   "metadata": {},
   "outputs": [
    {
     "name": "stdout",
     "output_type": "stream",
     "text": [
      "1 0.7855238161981106\n",
      "2 0.7799449745565653\n",
      "4 0.7377596348524094\n",
      "6 0.7175840318202973\n",
      "8 0.6975218676030636\n"
     ]
    }
   ],
   "source": [
    "batch_size = 2\n",
    "\n",
    "for n_workers in [1, 2, 4, 6, 8]:\n",
    "    \n",
    "    train_dataloader = DataLoader(train_dataset,\n",
    "                                  batch_size=batch_size,\n",
    "                                  shuffle=True,\n",
    "                                  num_workers=num_workers,\n",
    "                                  pin_memory=True\n",
    "                                 )\n",
    "    \n",
    "    mean_time = np.mean((timeit.Timer(partial(sample_one, dataset)).repeat(10, 1)))\n",
    "    print(n_workers, mean_time)"
   ]
  },
  {
   "cell_type": "code",
   "execution_count": 107,
   "id": "cabac3bc-2ae2-4b04-993a-e0bcc95a8255",
   "metadata": {},
   "outputs": [
    {
     "name": "stdout",
     "output_type": "stream",
     "text": [
      "1 2.2117911595851183\n",
      "2 2.046762038394809\n",
      "4 2.029267728701234\n",
      "6 2.0108483348041775\n",
      "8 1.9925696693360806\n"
     ]
    }
   ],
   "source": [
    "batch_size = 10\n",
    "\n",
    "for n_workers in [1, 2, 4, 6, 8]:\n",
    "    \n",
    "    train_dataloader = DataLoader(train_dataset,\n",
    "                                  batch_size=batch_size,\n",
    "                                  shuffle=True,\n",
    "                                  num_workers=num_workers,\n",
    "                                  pin_memory=True\n",
    "                                 )\n",
    "    \n",
    "    mean_time = np.mean((timeit.Timer(partial(sample_one, dataset)).repeat(10, 1)))\n",
    "    print(n_workers, mean_time)"
   ]
  },
  {
   "cell_type": "code",
   "execution_count": 108,
   "id": "9cfdce7d-45e3-47d8-84ad-60471bd48d67",
   "metadata": {},
   "outputs": [
    {
     "name": "stdout",
     "output_type": "stream",
     "text": [
      "1 5.612417998537421\n",
      "2 5.669828491285443\n",
      "4 5.668835337460041\n",
      "6 5.731510932743549\n",
      "8 5.774570039659738\n"
     ]
    }
   ],
   "source": [
    "batch_size = 32\n",
    "\n",
    "for n_workers in [1, 2, 4, 6, 8]:\n",
    "    \n",
    "    train_dataloader = DataLoader(train_dataset,\n",
    "                                  batch_size=batch_size,\n",
    "                                  shuffle=True,\n",
    "                                  num_workers=num_workers,\n",
    "                                  pin_memory=True\n",
    "                                 )\n",
    "    \n",
    "    mean_time = np.mean((timeit.Timer(partial(sample_one, dataset)).repeat(10, 1)))\n",
    "    print(n_workers, mean_time)"
   ]
  },
  {
   "cell_type": "markdown",
   "id": "a60986b1-b917-4550-98c2-6915e0bac32b",
   "metadata": {},
   "source": [
    "# Should I use log for AGBM?\n",
    "\n",
    "Data looks more well behaved for the log data. Think of a way to include this."
   ]
  },
  {
   "cell_type": "code",
   "execution_count": 10,
   "id": "b2785b24-d768-4adb-819d-545e91065555",
   "metadata": {},
   "outputs": [],
   "source": [
    "from joblib import Parallel, delayed\n",
    "\n",
    "dir_target = '/home/ubuntu/Thesis/backup_data/bioMass_data/train_agbm/'\n",
    "tile_list = glob(dir_target+'*')\n",
    "\n",
    "data = Parallel(n_jobs=5)(delayed(tifffile.imread)(f) for f in tile_list)\n",
    "all_data = np.array(data).flatten()"
   ]
  },
  {
   "cell_type": "code",
   "execution_count": 11,
   "id": "dea1407e-582b-4027-8f41-333155542628",
   "metadata": {},
   "outputs": [
    {
     "data": {
      "text/plain": [
       "(63.325916, 71.85834)"
      ]
     },
     "execution_count": 11,
     "metadata": {},
     "output_type": "execute_result"
    }
   ],
   "source": [
    "all_data.mean(), all_data.std()"
   ]
  },
  {
   "cell_type": "code",
   "execution_count": 11,
   "id": "876ad135-a500-47e1-95c1-c94a3c2a49ad",
   "metadata": {},
   "outputs": [
    {
     "data": {
      "text/plain": [
       "array([304.70001221, 425.71696826, 583.80999756])"
      ]
     },
     "execution_count": 11,
     "metadata": {},
     "output_type": "execute_result"
    }
   ],
   "source": [
    "np.quantile(all_data, [0.99, 0.999, 0.9999])"
   ]
  },
  {
   "cell_type": "code",
   "execution_count": 6,
   "id": "91bf983f-bdca-4383-8a17-ca2a155a2a88",
   "metadata": {},
   "outputs": [
    {
     "data": {
      "image/png": "[encoded data removed]",
      "text/plain": [
       "<Figure size 640x480 with 1 Axes>"
      ]
     },
     "metadata": {},
     "output_type": "display_data"
    }
   ],
   "source": [
    "plt.hist(all_data, bins=50)\n",
    "plt.show()"
   ]
  },
  {
   "cell_type": "code",
   "execution_count": 12,
   "id": "f4548c43-440f-43fe-a049-11ac8976cbaf",
   "metadata": {},
   "outputs": [
    {
     "data": {
      "image/png": "[encoded data removed]",
      "text/plain": [
       "<Figure size 640x480 with 1 Axes>"
      ]
     },
     "metadata": {},
     "output_type": "display_data"
    }
   ],
   "source": [
    "plt.hist(all_data, bins=50, range=[0, 583.80999756])\n",
    "plt.show()"
   ]
  },
  {
   "cell_type": "code",
   "execution_count": 135,
   "id": "eae015c7-d072-484d-a808-8191824bef59",
   "metadata": {},
   "outputs": [
    {
     "data": {
      "text/plain": [
       "(array([1.44412237e+08, 3.17440000e+04, 1.61055000e+05, 4.65918000e+05,\n",
       "        8.48366000e+05, 1.39799700e+06, 2.48264500e+06, 3.10828900e+06,\n",
       "        4.32455500e+06, 5.16632700e+06, 5.78105400e+06, 6.22331200e+06,\n",
       "        7.46936500e+06, 7.77477300e+06, 7.53631500e+06, 8.51619200e+06,\n",
       "        9.24537800e+06, 1.10940040e+07, 1.36619870e+07, 1.69554340e+07,\n",
       "        2.21989540e+07, 2.77069780e+07, 3.45969580e+07, 3.90312290e+07,\n",
       "        3.85108110e+07, 3.33060630e+07, 2.62013360e+07, 1.88122250e+07,\n",
       "        1.27988190e+07, 8.01623600e+06, 4.25300400e+06, 1.68724900e+06,\n",
       "        4.10149000e+05, 5.95860000e+04, 1.80510000e+04, 9.24000000e+03,\n",
       "        4.30700000e+03, 3.02900000e+03, 2.09400000e+03, 1.63500000e+03,\n",
       "        1.08900000e+03, 7.79000000e+02, 5.06000000e+02, 3.00000000e+02,\n",
       "        2.11000000e+02, 9.90000000e+01, 5.80000000e+01, 3.90000000e+01,\n",
       "        9.00000000e+00, 1.00000000e+01]),\n",
       " array([0.        , 0.18930942, 0.37861884, 0.56792825, 0.75723767,\n",
       "        0.94654715, 1.13585651, 1.32516599, 1.51447535, 1.70378482,\n",
       "        1.8930943 , 2.08240366, 2.27171302, 2.46102262, 2.65033197,\n",
       "        2.83964133, 3.02895069, 3.21826029, 3.40756965, 3.59687901,\n",
       "        3.7861886 , 3.97549796, 4.16480732, 4.35411692, 4.54342604,\n",
       "        4.73273563, 4.92204523, 5.11135435, 5.30066395, 5.48997355,\n",
       "        5.67928267, 5.86859226, 6.05790138, 6.24721098, 6.43652058,\n",
       "        6.6258297 , 6.81513929, 7.00444889, 7.19375801, 7.38306761,\n",
       "        7.5723772 , 7.76168633, 7.95099592, 8.14030552, 8.32961464,\n",
       "        8.51892376, 8.70823383, 8.89754295, 9.08685207, 9.27616215,\n",
       "        9.46547127]),\n",
       " <BarContainer object of 50 artists>)"
      ]
     },
     "execution_count": 135,
     "metadata": {},
     "output_type": "execute_result"
    },
    {
     "data": {
      "image/png": "[encoded data removed]",
      "text/plain": [
       "<Figure size 640x480 with 1 Axes>"
      ]
     },
     "metadata": {},
     "output_type": "display_data"
    }
   ],
   "source": [
    "plt.hist(np.log(all_data+1), bins=50)"
   ]
  },
  {
   "cell_type": "code",
   "execution_count": null,
   "id": "1837d8d6-3aa4-483a-8f05-444b9eef5fe5",
   "metadata": {},
   "outputs": [],
   "source": []
  }
 ],
 "metadata": {
  "kernelspec": {
   "display_name": "Python 3 (ipykernel)",
   "language": "python",
   "name": "python3"
  },
  "language_info": {
   "codemirror_mode": {
    "name": "ipython",
    "version": 3
   },
   "file_extension": ".py",
   "mimetype": "text/x-python",
   "name": "python",
   "nbconvert_exporter": "python",
   "pygments_lexer": "ipython3",
   "version": "3.9.15"
  }
 },
 "nbformat": 4,
 "nbformat_minor": 5
}
