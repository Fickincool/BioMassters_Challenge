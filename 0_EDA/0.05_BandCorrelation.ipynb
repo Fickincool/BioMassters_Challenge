{
 "cells": [
  {
   "cell_type": "code",
   "execution_count": 1,
   "id": "68e2cc35-6e81-4ae7-afbf-e00697831f1e",
   "metadata": {},
   "outputs": [],
   "source": [
    "import bioMass.dataViz as dv\n",
    "from bioMass.dataloader import SentinelDataset, SentinelDataModule\n",
    "from bioMass.model import Unet, DoubleStreamUnet\n",
    "from pytorch_lightning import Trainer\n",
    "import matplotlib.pyplot as plt\n",
    "import torch\n",
    "from torch.utils.data import DataLoader, random_split\n",
    "from tqdm.notebook import tqdm\n",
    "from torch import nn\n",
    "import os\n",
    "import numpy as np\n",
    "import pandas as pd\n",
    "from glob import glob\n",
    "import yaml\n",
    "import tifffile\n",
    "from skimage import io\n",
    "from joblib import Parallel, delayed\n",
    "\n",
    "\n",
    "from pytorch_lightning import loggers as pl_loggers\n",
    "\n",
    "%config Completer.use_jedi = False\n",
    "%matplotlib inline\n",
    "%load_ext autoreload\n",
    "%autoreload 2"
   ]
  },
  {
   "cell_type": "code",
   "execution_count": 2,
   "id": "5d3acf31-2310-4674-8a1e-54008fb53cda",
   "metadata": {},
   "outputs": [],
   "source": [
    "dm = SentinelDataModule(max_chips=None, loader_type='Moran', is_train=True, loader_device='cpu', num_workers=24)\n",
    "dm.setup('fit')\n",
    "\n",
    "test_dataloader = dm.test_dataloader()"
   ]
  },
  {
   "cell_type": "code",
   "execution_count": 3,
   "id": "79503244-b7eb-497b-8892-4cd3dba6ce6d",
   "metadata": {},
   "outputs": [],
   "source": [
    "for sample in test_dataloader:\n",
    "    sample\n",
    "    break\n"
   ]
  },
  {
   "cell_type": "code",
   "execution_count": 12,
   "id": "40f1800a-a66a-468f-95eb-540004c562da",
   "metadata": {},
   "outputs": [
    {
     "name": "stdout",
     "output_type": "stream",
     "text": [
      "0 tensor([[1.0000, 0.8249,    nan,    nan],\n",
      "        [0.8249, 1.0000,    nan,    nan],\n",
      "        [   nan,    nan,    nan,    nan],\n",
      "        [   nan,    nan,    nan,    nan]])\n",
      "1 tensor([[1.0000, 0.5340, 0.0302, 0.0613],\n",
      "        [0.5340, 1.0000, 0.0909, 0.3135],\n",
      "        [0.0302, 0.0909, 1.0000, 0.6086],\n",
      "        [0.0613, 0.3135, 0.6086, 1.0000]])\n",
      "2 tensor([[1.0000, 0.9044, 0.8234, 0.7851],\n",
      "        [0.9044, 1.0000, 0.7967, 0.8572],\n",
      "        [0.8234, 0.7967, 1.0000, 0.9096],\n",
      "        [0.7851, 0.8572, 0.9096, 1.0000]])\n",
      "3 tensor([[1.0000, 0.9569, 0.5172, 0.4575],\n",
      "        [0.9569, 1.0000, 0.5254, 0.4762],\n",
      "        [0.5172, 0.5254, 1.0000, 0.8492],\n",
      "        [0.4575, 0.4762, 0.8492, 1.0000]])\n",
      "4 tensor([[1.0000, 0.9322, 0.6054, 0.6001],\n",
      "        [0.9322, 1.0000, 0.6201, 0.6538],\n",
      "        [0.6054, 0.6201, 1.0000, 0.9015],\n",
      "        [0.6001, 0.6538, 0.9015, 1.0000]])\n",
      "5 tensor([[1.0000, 0.6316, 0.2461, 0.3448],\n",
      "        [0.6316, 1.0000, 0.2181, 0.7350],\n",
      "        [0.2461, 0.2181, 1.0000, 0.5353],\n",
      "        [0.3448, 0.7350, 0.5353, 1.0000]])\n",
      "6 tensor([[1.0000, 0.8765, 0.5416, 0.5801],\n",
      "        [0.8765, 1.0000, 0.5061, 0.6417],\n",
      "        [0.5416, 0.5061, 1.0000, 0.8411],\n",
      "        [0.5801, 0.6417, 0.8411, 1.0000]])\n",
      "7 tensor([[1.0000, 0.6925, 0.1283, 0.2613],\n",
      "        [0.6925, 1.0000, 0.1429, 0.4008],\n",
      "        [0.1283, 0.1429, 1.0000, 0.6115],\n",
      "        [0.2613, 0.4008, 0.6115, 1.0000]])\n",
      "8 tensor([[1.0000, 0.5264, 0.3262, 0.3302],\n",
      "        [0.5264, 1.0000, 0.1601, 0.5851],\n",
      "        [0.3262, 0.1601, 1.0000, 0.2634],\n",
      "        [0.3302, 0.5851, 0.2634, 1.0000]])\n",
      "9 tensor([[1.0000, 0.7149,    nan,    nan],\n",
      "        [0.7149, 1.0000,    nan,    nan],\n",
      "        [   nan,    nan,    nan,    nan],\n",
      "        [   nan,    nan,    nan,    nan]])\n",
      "10 tensor([[1.0000, 0.5418, 0.2292, 0.2323],\n",
      "        [0.5418, 1.0000, 0.2690, 0.5482],\n",
      "        [0.2292, 0.2690, 1.0000, 0.5973],\n",
      "        [0.2323, 0.5482, 0.5973, 1.0000]])\n",
      "11 tensor([[1.0000, 0.5919, 0.3424, 0.2982],\n",
      "        [0.5919, 1.0000, 0.2983, 0.4609],\n",
      "        [0.3424, 0.2983, 1.0000, 0.5836],\n",
      "        [0.2982, 0.4609, 0.5836, 1.0000]])\n",
      "12 tensor([[1.0000, 0.6444, 0.5116, 0.3885],\n",
      "        [0.6444, 1.0000, 0.3176, 0.7146],\n",
      "        [0.5116, 0.3176, 1.0000, 0.5685],\n",
      "        [0.3885, 0.7146, 0.5685, 1.0000]])\n",
      "13 tensor([[1.0000, 0.6094, 0.4221, 0.4320],\n",
      "        [0.6094, 1.0000, 0.4263, 0.4920],\n",
      "        [0.4221, 0.4263, 1.0000, 0.7811],\n",
      "        [0.4320, 0.4920, 0.7811, 1.0000]])\n",
      "14 tensor([[1.0000, 0.5889, 0.0068, 0.0536],\n",
      "        [0.5889, 1.0000, 0.0438, 0.2557],\n",
      "        [0.0068, 0.0438, 1.0000, 0.6000],\n",
      "        [0.0536, 0.2557, 0.6000, 1.0000]])\n",
      "15 tensor([[1.0000, 0.6081, 0.5166, 0.4298],\n",
      "        [0.6081, 1.0000, 0.4749, 0.7246],\n",
      "        [0.5166, 0.4749, 1.0000, 0.6142],\n",
      "        [0.4298, 0.7246, 0.6142, 1.0000]])\n",
      "16 tensor([[1.0000, 0.3726, 0.2133, 0.1439],\n",
      "        [0.3726, 1.0000, 0.4583, 0.7100],\n",
      "        [0.2133, 0.4583, 1.0000, 0.5991],\n",
      "        [0.1439, 0.7100, 0.5991, 1.0000]])\n",
      "17 tensor([[1.0000, 0.5484, 0.1514, 0.0238],\n",
      "        [0.5484, 1.0000, 0.1346, 0.4761],\n",
      "        [0.1514, 0.1346, 1.0000, 0.5640],\n",
      "        [0.0238, 0.4761, 0.5640, 1.0000]])\n",
      "18 tensor([[1.0000, 0.9081,    nan,    nan],\n",
      "        [0.9081, 1.0000,    nan,    nan],\n",
      "        [   nan,    nan,    nan,    nan],\n",
      "        [   nan,    nan,    nan,    nan]])\n",
      "19 tensor([[1.0000, 0.9494, 0.7455, 0.7453],\n",
      "        [0.9494, 1.0000, 0.7475, 0.7693],\n",
      "        [0.7455, 0.7475, 1.0000, 0.9434],\n",
      "        [0.7453, 0.7693, 0.9434, 1.0000]])\n",
      "20 tensor([[1.0000, 0.8531, 0.6449, 0.6131],\n",
      "        [0.8531, 1.0000, 0.6712, 0.7514],\n",
      "        [0.6449, 0.6712, 1.0000, 0.8545],\n",
      "        [0.6131, 0.7514, 0.8545, 1.0000]])\n",
      "21 tensor([[1.0000, 0.5676, 0.2567, 0.2262],\n",
      "        [0.5676, 1.0000, 0.1664, 0.5166],\n",
      "        [0.2567, 0.1664, 1.0000, 0.5754],\n",
      "        [0.2262, 0.5166, 0.5754, 1.0000]])\n",
      "22 tensor([[1.0000, 0.7897,    nan,    nan],\n",
      "        [0.7897, 1.0000,    nan,    nan],\n",
      "        [   nan,    nan,    nan,    nan],\n",
      "        [   nan,    nan,    nan,    nan]])\n",
      "23 tensor([[1.0000, 0.6491, 0.4769, 0.4563],\n",
      "        [0.6491, 1.0000, 0.3383, 0.6537],\n",
      "        [0.4769, 0.3383, 1.0000, 0.6068],\n",
      "        [0.4563, 0.6537, 0.6068, 1.0000]])\n",
      "24 tensor([[1.0000, 0.9444, 0.8656, 0.8549],\n",
      "        [0.9444, 1.0000, 0.8651, 0.8950],\n",
      "        [0.8656, 0.8651, 1.0000, 0.9471],\n",
      "        [0.8549, 0.8950, 0.9471, 1.0000]])\n",
      "25 tensor([[1.0000, 0.7565,    nan,    nan],\n",
      "        [0.7565, 1.0000,    nan,    nan],\n",
      "        [   nan,    nan,    nan,    nan],\n",
      "        [   nan,    nan,    nan,    nan]])\n",
      "26 tensor([[1.0000, 0.4832, 0.0088, 0.0953],\n",
      "        [0.4832, 1.0000, 0.0747, 0.4918],\n",
      "        [0.0088, 0.0747, 1.0000, 0.4761],\n",
      "        [0.0953, 0.4918, 0.4761, 1.0000]])\n",
      "27 tensor([[ 1.0000,  0.3588,  0.0943,  0.0429],\n",
      "        [ 0.3588,  1.0000, -0.0087,  0.3853],\n",
      "        [ 0.0943, -0.0087,  1.0000,  0.3344],\n",
      "        [ 0.0429,  0.3853,  0.3344,  1.0000]])\n",
      "28 tensor([[1.0000, 0.9529, 0.8906, 0.8794],\n",
      "        [0.9529, 1.0000, 0.8668, 0.8997],\n",
      "        [0.8906, 0.8668, 1.0000, 0.9528],\n",
      "        [0.8794, 0.8997, 0.9528, 1.0000]])\n",
      "29 tensor([[1.0000, 0.9728, 0.8590, 0.8560],\n",
      "        [0.9728, 1.0000, 0.8487, 0.8656],\n",
      "        [0.8590, 0.8487, 1.0000, 0.9700],\n",
      "        [0.8560, 0.8656, 0.9700, 1.0000]])\n",
      "30 tensor([[1.0000, 0.8344, 0.4055, 0.4185],\n",
      "        [0.8344, 1.0000, 0.4057, 0.5610],\n",
      "        [0.4055, 0.4057, 1.0000, 0.8448],\n",
      "        [0.4185, 0.5610, 0.8448, 1.0000]])\n",
      "31 tensor([[1.0000, 0.7872, 0.6579, 0.6124],\n",
      "        [0.7872, 1.0000, 0.6149, 0.7139],\n",
      "        [0.6579, 0.6149, 1.0000, 0.8651],\n",
      "        [0.6124, 0.7139, 0.8651, 1.0000]])\n"
     ]
    }
   ],
   "source": [
    "x = sample['image_s1']\n",
    "\n",
    "for i, img in enumerate(x):\n",
    "    img = img.flatten(start_dim=1, end_dim=2)\n",
    "    print(i, torch.corrcoef(img))"
   ]
  },
  {
   "cell_type": "code",
   "execution_count": 20,
   "id": "90684df2-5e73-4e67-a731-3292bb53b739",
   "metadata": {},
   "outputs": [
    {
     "data": {
      "text/plain": [
       "<matplotlib.collections.PathCollection at 0x7f8a9dd648b0>"
      ]
     },
     "execution_count": 20,
     "metadata": {},
     "output_type": "execute_result"
    },
    {
     "data": {
      "image/png": "[encoded data removed]",
      "text/plain": [
       "<Figure size 640x480 with 1 Axes>"
      ]
     },
     "metadata": {},
     "output_type": "display_data"
    }
   ],
   "source": [
    "plt.scatter(x[27][0].numpy(), x[27][1].numpy())"
   ]
  },
  {
   "cell_type": "code",
   "execution_count": 9,
   "id": "05a0df57-afd4-4081-999a-b508402ca1d7",
   "metadata": {},
   "outputs": [
    {
     "data": {
      "text/plain": [
       "torch.Size([10, 65536])"
      ]
     },
     "execution_count": 9,
     "metadata": {},
     "output_type": "execute_result"
    }
   ],
   "source": [
    "img.shape"
   ]
  },
  {
   "cell_type": "code",
   "execution_count": 13,
   "id": "8013614a-fcc5-4076-83cc-9efefe42f5c0",
   "metadata": {},
   "outputs": [
    {
     "name": "stdout",
     "output_type": "stream",
     "text": [
      "0 tensor(0.9618)\n",
      "1 tensor(0.9712)\n",
      "2 tensor(0.9842)\n",
      "3 tensor(0.9721)\n",
      "4 tensor(0.9689)\n",
      "5 tensor(0.8773)\n",
      "6 tensor(0.9401)\n",
      "7 tensor(0.9541)\n",
      "8 tensor(0.9596)\n",
      "9 tensor(0.9915)\n",
      "10 tensor(0.9325)\n",
      "11 tensor(0.8788)\n",
      "12 tensor(0.9679)\n",
      "13 tensor(0.9738)\n",
      "14 tensor(0.9526)\n",
      "15 tensor(0.8530)\n",
      "16 tensor(0.8565)\n",
      "17 tensor(0.9858)\n",
      "18 tensor(0.9330)\n",
      "19 tensor(0.9782)\n",
      "20 tensor(0.9295)\n",
      "21 tensor(0.9124)\n",
      "22 tensor(0.9921)\n",
      "23 tensor(0.9759)\n",
      "24 tensor(0.9766)\n",
      "25 tensor(0.8865)\n",
      "26 tensor(0.9499)\n",
      "27 tensor(0.9198)\n",
      "28 tensor(0.9645)\n",
      "29 tensor(0.9832)\n",
      "30 tensor(0.9599)\n",
      "31 tensor(0.8362)\n"
     ]
    }
   ],
   "source": [
    "x = sample['image_s2']\n",
    "\n",
    "for i, img in enumerate(x):\n",
    "    img = img.flatten(start_dim=1, end_dim=2)\n",
    "    print(i, torch.corrcoef(img)[0][1])"
   ]
  },
  {
   "cell_type": "code",
   "execution_count": 14,
   "id": "e9a4344a-8cfa-479d-9300-9d19be22eb35",
   "metadata": {},
   "outputs": [
    {
     "data": {
      "text/plain": [
       "tensor([[1.0000, 0.8362, 0.7988, 0.5976, 0.2679, 0.2385, 0.2631, 0.2347, 0.4897,\n",
       "         0.5942, 0.6207],\n",
       "        [0.8362, 1.0000, 0.9011, 0.8390, 0.6079, 0.5809, 0.6155, 0.5761, 0.7451,\n",
       "         0.7891, 0.7469],\n",
       "        [0.7988, 0.9011, 1.0000, 0.8520, 0.4932, 0.4692, 0.5123, 0.4882, 0.7931,\n",
       "         0.8603, 0.8350],\n",
       "        [0.5976, 0.8390, 0.8520, 1.0000, 0.8089, 0.7972, 0.7691, 0.8126, 0.9474,\n",
       "         0.9292, 0.7638],\n",
       "        [0.2679, 0.6079, 0.4932, 0.8089, 1.0000, 0.9905, 0.9385, 0.9823, 0.7923,\n",
       "         0.6820, 0.5048],\n",
       "        [0.2385, 0.5809, 0.4692, 0.7972, 0.9905, 1.0000, 0.9417, 0.9889, 0.7866,\n",
       "         0.6663, 0.4886],\n",
       "        [0.2631, 0.6155, 0.5123, 0.7691, 0.9385, 0.9417, 1.0000, 0.9433, 0.7623,\n",
       "         0.6492, 0.5450],\n",
       "        [0.2347, 0.5761, 0.4882, 0.8126, 0.9823, 0.9889, 0.9433, 1.0000, 0.8153,\n",
       "         0.6927, 0.5160],\n",
       "        [0.4897, 0.7451, 0.7931, 0.9474, 0.7923, 0.7866, 0.7623, 0.8153, 1.0000,\n",
       "         0.9688, 0.7774],\n",
       "        [0.5942, 0.7891, 0.8603, 0.9292, 0.6820, 0.6663, 0.6492, 0.6927, 0.9688,\n",
       "         1.0000, 0.8253],\n",
       "        [0.6207, 0.7469, 0.8350, 0.7638, 0.5048, 0.4886, 0.5450, 0.5160, 0.7774,\n",
       "         0.8253, 1.0000]])"
      ]
     },
     "execution_count": 14,
     "metadata": {},
     "output_type": "execute_result"
    }
   ],
   "source": [
    "torch.corrcoef(img)"
   ]
  },
  {
   "cell_type": "code",
   "execution_count": 10,
   "id": "9bd42df9-22f4-4820-8d9b-715e31325f5f",
   "metadata": {},
   "outputs": [
    {
     "data": {
      "text/plain": [
       "<matplotlib.collections.PathCollection at 0x7f1801dab400>"
      ]
     },
     "execution_count": 10,
     "metadata": {},
     "output_type": "execute_result"
    },
    {
     "data": {
      "image/png": "[encoded data removed]",
      "text/plain": [
       "<Figure size 640x480 with 1 Axes>"
      ]
     },
     "metadata": {},
     "output_type": "display_data"
    }
   ],
   "source": [
    "plt.scatter(x[27][5].numpy(), x[27][1].numpy())"
   ]
  },
  {
   "cell_type": "code",
   "execution_count": null,
   "id": "4cb76d21-93b4-4b84-a4ef-946e2572246e",
   "metadata": {},
   "outputs": [],
   "source": []
  },
  {
   "cell_type": "code",
   "execution_count": null,
   "id": "bbe240ca-8cfa-4ad9-bc9e-40609951e233",
   "metadata": {},
   "outputs": [],
   "source": []
  },
  {
   "cell_type": "code",
   "execution_count": null,
   "id": "d1ae1e82-e597-4124-b804-7a1382aa469a",
   "metadata": {},
   "outputs": [],
   "source": []
  }
 ],
 "metadata": {
  "kernelspec": {
   "display_name": "Python 3 (ipykernel)",
   "language": "python",
   "name": "python3"
  },
  "language_info": {
   "codemirror_mode": {
    "name": "ipython",
    "version": 3
   },
   "file_extension": ".py",
   "mimetype": "text/x-python",
   "name": "python",
   "nbconvert_exporter": "python",
   "pygments_lexer": "ipython3",
   "version": "3.9.15"
  }
 },
 "nbformat": 4,
 "nbformat_minor": 5
}
