{
 "cells": [
  {
   "cell_type": "markdown",
   "id": "af184591-b9e8-4636-928e-d77b9b858a1f",
   "metadata": {},
   "source": [
    "I want to specify the dataset such that:\n",
    "1. All year information is loaded per tile into a tensor of shape [bands, months, H, W]\n",
    "2. Handle basic band ransformations\n",
    "3. Train and test mode are specified\n",
    "4. Handle tiles with no data"
   ]
  },
  {
   "cell_type": "code",
   "execution_count": 3,
   "id": "0ee4f2f1-f1f5-44d7-ba8f-bc3f5e0a196c",
   "metadata": {},
   "outputs": [],
   "source": [
    "from skimage import io\n",
    "from joblib import Parallel, delayed\n",
    "import pandas as pd\n",
    "import os\n",
    "import tifffile\n",
    "import numpy as np\n",
    "from torch.utils.data import Dataset, DataLoader, random_split\n",
    "import torch\n",
    "from glob import glob\n",
    "import logging\n",
    "import pytorch_lightning as pl\n",
    "from bioMass.moran_Dataloader import MoranSentinelDataset\n",
    "import matplotlib.pyplot as plt\n",
    "from tqdm.auto import tqdm\n",
    "import warnings\n",
    "\n",
    "DIR_DATA = '/home/ubuntu/Thesis/backup_data/bioMass_data/'\n",
    "\n",
    "\n",
    "class SentinelDataset(Dataset):\n",
    "    '''Sentinel 1 & 2 dataset.'''\n",
    "\n",
    "    def __init__(self, is_train, dir_data=DIR_DATA, max_chips=None, transform=None, device='cpu'\n",
    "                 ):\n",
    "        \n",
    "        self.dir_data = dir_data\n",
    "        self.is_train = is_train\n",
    "        self.file_metadata = os.path.join(dir_data, 'features_metadata.csv')\n",
    "        \n",
    "        self.dataframe = self.parse_dataframe()\n",
    "        \n",
    "        self.tile_list = self.dataframe.chip_id.unique()\n",
    "\n",
    "        if max_chips:\n",
    "            self.tile_list = self.tile_list[:max_chips]\n",
    "            \n",
    "        self.device = device\n",
    "        # self.transform = transform\n",
    "\n",
    "        return\n",
    "    \n",
    "    def parse_dataframe(self):\n",
    "        \n",
    "        dataframe = pd.read_csv(self.file_metadata)\n",
    "        \n",
    "        # get the corresponding part of the dataframe\n",
    "        if self.is_train:\n",
    "            dataframe = dataframe[dataframe.split=='train']\n",
    "            dir_features = os.path.join(self.dir_data, 'train_features')\n",
    "            dir_target = os.path.join(self.dir_data, 'train_agbm')\n",
    "        else:\n",
    "            dataframe = dataframe[dataframe.split=='test']\n",
    "            dir_features = os.path.join(self.dir_data, 'test_features')\n",
    "            dir_target = os.path.join(self.dir_data, '')\n",
    "        \n",
    "        # parse filenames with appropriate directory\n",
    "        dataframe['filename'] = dataframe.filename.map(lambda x: os.path.join(dir_features, x))\n",
    "        dataframe['corresponding_agbm'] = dataframe.corresponding_agbm.map(lambda x: os.path.join(dir_target, x))\n",
    "        \n",
    "        return dataframe\n",
    "    \n",
    "    def _read_tiff_to_tensor(self, filename, check_zeros=True):\n",
    "        \n",
    "        # information is in [H, W, C] shape\n",
    "        X = tifffile.imread(filename).astype(np.float32)\n",
    "        \n",
    "        # set bands to first channel\n",
    "        X = np.moveaxis(X, -1, 0)\n",
    "        \n",
    "        assert X.shape[-1]==256\n",
    "        \n",
    "        X = torch.tensor(X,\n",
    "                         dtype=torch.float32,\n",
    "                         device=self.device,\n",
    "                         requires_grad=False,\n",
    "                         )\n",
    "        \n",
    "        if check_zeros:\n",
    "            # check number of zeros in the data across channels\n",
    "            chk_zeros = X.flatten(1, 2)\n",
    "            chk_zeros = (chk_zeros==0).sum(dim=1)/chk_zeros.shape[-1]\n",
    "            \n",
    "            condition = (chk_zeros>=0.8).sum()>0\n",
    "            alt_condition = (chk_zeros>0.5).sum()>0\n",
    "            \n",
    "            # drop all information whenever more than 80% of data are zeros\n",
    "            if condition:\n",
    "                no_info_X = X[chk_zeros>0.8]\n",
    "                no_info_X = torch.full_like(no_info_X, torch.nan, dtype=torch.float32, requires_grad=False,\n",
    "                                             device=self.device)\n",
    "\n",
    "                X[chk_zeros>0.8] = no_info_X\n",
    "\n",
    "                problematic_file = filename.split('/')[-1]\n",
    "                warnings.warn(f'{problematic_file} had more than 80% zeros in at least one band')\n",
    "            \n",
    "            # replace zero values with some other value when the frequency of zeros is between 50 and 80%?\n",
    "            # it seems that mostly the CLP band shows this condition, but the information looks useful\n",
    "            # so maybe leave the CLP for this out?\n",
    "            elif not condition and alt_condition:\n",
    "                problematic_file = filename.split('/')[-1]\n",
    "                warnings.warn(f'{problematic_file} had between 50% and 80% zeros in at least one band')\n",
    "        \n",
    "        # Scale all values and replace nans\n",
    "        X = self._scale_channels(X)\n",
    "        X = X.nan_to_num_(-1)\n",
    "        \n",
    "        return X\n",
    "    \n",
    "    def _load_sentinel_tiles(self, chip_id, satellite):\n",
    "        assert satellite in ['S1', 'S2']\n",
    "\n",
    "        chip_df = self.dataframe[(self.dataframe.chip_id==chip_id) & (self.dataframe.satellite==satellite)]\n",
    "\n",
    "        files_list = chip_df.filename.values\n",
    "\n",
    "        months_list = chip_df.filename.map(lambda x: int(x.split('_')[-1].replace('.tif', ''))).values    \n",
    "\n",
    "        data = Parallel(len(files_list))(delayed(self._read_tiff_to_tensor)(filename) for filename in files_list)\n",
    "        data = torch.stack(data)\n",
    "\n",
    "        return data, months_list\n",
    "    \n",
    "    def __getitem__(self, idx):\n",
    "        chip_id = self.tile_list[idx]\n",
    "        # Logic: get the available months and fill a tensor with no information for the 12 months. \n",
    "        # Then replace the information available in this tensor. No information stays the same.\n",
    "        \n",
    "        # S1\n",
    "        _s1_tile, s1_months_list = self._load_sentinel_tiles(chip_id, 'S1')\n",
    "        s1_tile = torch.full([12, 4, 256, 256], torch.nan, dtype=torch.float32, requires_grad=False, device=self.device)\n",
    "        s1_tile[s1_months_list] = _s1_tile\n",
    "        \n",
    "        # S2\n",
    "        _s2_tile, s2_months_list = self._load_sentinel_tiles(chip_id, 'S2')\n",
    "        s2_tile = torch.full([12, 11, 256, 256], torch.nan, dtype=torch.float32, requires_grad=False, device=self.device)\n",
    "        s2_tile[s2_months_list] = _s2_tile\n",
    "        \n",
    "        if self.is_train:\n",
    "            target_tile = self._load_agbm_tile(chip_id)\n",
    "            # 583.80999756 is the 0.9999 quantile of the whole train data\n",
    "            target_tile = target_tile.clamp(target_tile.min(), 583.80999756).unsqueeze(0)\n",
    "            # target_tile = torch.log(target_tile+1)\n",
    "        else:\n",
    "            target_tile = torch.full([1, 256, 256], torch.nan, dtype=torch.float32, requires_grad=False, device=self.device)\n",
    "\n",
    "        sample = {'image_s1': s1_tile, 'image_s2': s2_tile,\n",
    "                  'target': target_tile} \n",
    "\n",
    "        # if self.transform:\n",
    "        #     sample = self.transform(sample)\n",
    "\n",
    "        return sample\n",
    "    \n",
    "    def __len__(self):\n",
    "        return len(self.tile_list)\n",
    "    \n",
    "\n",
    "    def _load_agbm_tile(self, chip_id):\n",
    "        target_path = self.dataframe[self.dataframe.chip_id==chip_id].corresponding_agbm.unique()\n",
    "        assert len(target_path)==1\n",
    "        \n",
    "        agbm_data = tifffile.imread(target_path[0]).astype(np.float32)\n",
    "        \n",
    "        print(agbm_data.shape)\n",
    "        \n",
    "        agbm_data = torch.tensor(agbm_data,\n",
    "                         dtype=torch.float32,\n",
    "                         device=self.device,\n",
    "                         requires_grad=False,\n",
    "                         )\n",
    "        \n",
    "        return agbm_data\n",
    "    \n",
    "    def _scale_channels(self, x, top_quantile=0.99):\n",
    "        \n",
    "        assert len(x.shape)==3\n",
    "        \n",
    "        Ms = x.flatten(1, 2).quantile(top_quantile, dim=1, keepdim=True).unsqueeze(-1)\n",
    "        ms = torch.amin(x, dim=(1, 2), keepdim=True)\n",
    "        scaled = (x-ms)/(Ms-ms)\n",
    "        scaled = scaled.clamp(0,1)\n",
    "        scaled = scaled*600 # make data have the same range as output: (0, 583.80999756)\n",
    "\n",
    "        return scaled"
   ]
  },
  {
   "cell_type": "code",
   "execution_count": 4,
   "id": "6a597ad9-73e3-47cb-9c29-7f678e0326a6",
   "metadata": {},
   "outputs": [
    {
     "name": "stderr",
     "output_type": "stream",
     "text": [
      "/tmp/ipykernel_1410413/1121932593.py:102: UserWarning: 01047f47_S2_07.tif had between 50% and 80% zeros in at least one band\n",
      "/tmp/ipykernel_1410413/1121932593.py:102: UserWarning: 01047f47_S2_10.tif had between 50% and 80% zeros in at least one band\n"
     ]
    }
   ],
   "source": [
    "my_dataset = SentinelDataset(is_train=False)\n",
    "sample = my_dataset[1]"
   ]
  },
  {
   "cell_type": "code",
   "execution_count": 5,
   "id": "0dfca9c8-18c6-4c03-9aed-4d8b87418ff5",
   "metadata": {},
   "outputs": [
    {
     "data": {
      "text/plain": [
       "(torch.Size([12, 11, 256, 256]), torch.Size([1, 256, 256]))"
      ]
     },
     "execution_count": 5,
     "metadata": {},
     "output_type": "execute_result"
    }
   ],
   "source": [
    "sample['image_s2'].shape, sample['target'].shape"
   ]
  },
  {
   "cell_type": "markdown",
   "id": "669a3846-bc87-4faf-8574-803918cf476e",
   "metadata": {},
   "source": [
    "# Raise Warnings when not enough information"
   ]
  },
  {
   "cell_type": "code",
   "execution_count": 102,
   "id": "dc2f04a9-6293-4849-a6b0-a5c773685a58",
   "metadata": {
    "collapsed": true,
    "jupyter": {
     "outputs_hidden": true
    },
    "tags": []
   },
   "outputs": [
    {
     "data": {
      "application/vnd.jupyter.widget-view+json": {
       "model_id": "975c3df4552b40a9a48b1d3d74e6e430",
       "version_major": 2,
       "version_minor": 0
      },
      "text/plain": [
       "  0%|          | 0/8689 [00:00<?, ?it/s]"
      ]
     },
     "metadata": {},
     "output_type": "display_data"
    },
    {
     "name": "stderr",
     "output_type": "stream",
     "text": [
      "/tmp/ipykernel_1203173/1946095462.py:100: UserWarning: 0003d2eb_S2_07.tif had between 50% and 80% zeros in at least one band\n",
      "/tmp/ipykernel_1203173/1946095462.py:100: UserWarning: 0003d2eb_S2_10.tif had between 50% and 80% zeros in at least one band\n",
      "/tmp/ipykernel_1203173/1946095462.py:95: UserWarning: 000aa810_S2_09.tif had more than 80% zeros in at least one band\n",
      "/tmp/ipykernel_1203173/1946095462.py:95: UserWarning: 001b0634_S2_01.tif had more than 80% zeros in at least one band\n",
      "/tmp/ipykernel_1203173/1946095462.py:95: UserWarning: 001b0634_S2_02.tif had more than 80% zeros in at least one band\n",
      "/tmp/ipykernel_1203173/1946095462.py:95: UserWarning: 001b0634_S2_04.tif had more than 80% zeros in at least one band\n",
      "/tmp/ipykernel_1203173/1946095462.py:95: UserWarning: 001b0634_S2_05.tif had more than 80% zeros in at least one band\n",
      "/tmp/ipykernel_1203173/1946095462.py:95: UserWarning: 001b0634_S2_06.tif had more than 80% zeros in at least one band\n",
      "/tmp/ipykernel_1203173/1946095462.py:95: UserWarning: 001b0634_S2_07.tif had more than 80% zeros in at least one band\n",
      "/tmp/ipykernel_1203173/1946095462.py:95: UserWarning: 001b0634_S2_08.tif had more than 80% zeros in at least one band\n",
      "/tmp/ipykernel_1203173/1946095462.py:95: UserWarning: 001b0634_S2_09.tif had more than 80% zeros in at least one band\n",
      "/tmp/ipykernel_1203173/1946095462.py:95: UserWarning: 001eb75a_S2_00.tif had more than 80% zeros in at least one band\n",
      "/tmp/ipykernel_1203173/1946095462.py:95: UserWarning: 001eb75a_S2_01.tif had more than 80% zeros in at least one band\n",
      "/tmp/ipykernel_1203173/1946095462.py:95: UserWarning: 001eb75a_S2_02.tif had more than 80% zeros in at least one band\n",
      "/tmp/ipykernel_1203173/1946095462.py:95: UserWarning: 001eb75a_S2_05.tif had more than 80% zeros in at least one band\n",
      "/tmp/ipykernel_1203173/1946095462.py:95: UserWarning: 001eb75a_S2_06.tif had more than 80% zeros in at least one band\n",
      "/tmp/ipykernel_1203173/1946095462.py:95: UserWarning: 001eb75a_S2_07.tif had more than 80% zeros in at least one band\n",
      "/tmp/ipykernel_1203173/1946095462.py:95: UserWarning: 001eb75a_S2_08.tif had more than 80% zeros in at least one band\n",
      "/tmp/ipykernel_1203173/1946095462.py:95: UserWarning: 001eb75a_S2_09.tif had more than 80% zeros in at least one band\n",
      "/tmp/ipykernel_1203173/1946095462.py:95: UserWarning: 001eb75a_S2_10.tif had more than 80% zeros in at least one band\n",
      "/tmp/ipykernel_1203173/1946095462.py:95: UserWarning: 001eb75a_S2_11.tif had more than 80% zeros in at least one band\n",
      "/tmp/ipykernel_1203173/1946095462.py:100: UserWarning: 0080ae28_S2_08.tif had between 50% and 80% zeros in at least one band\n",
      "/tmp/ipykernel_1203173/1946095462.py:100: UserWarning: 008d48bf_S2_06.tif had between 50% and 80% zeros in at least one band\n",
      "/tmp/ipykernel_1203173/1946095462.py:100: UserWarning: 008d48bf_S2_08.tif had between 50% and 80% zeros in at least one band\n",
      "/tmp/ipykernel_1203173/1946095462.py:100: UserWarning: 008d48bf_S2_10.tif had between 50% and 80% zeros in at least one band\n",
      "/tmp/ipykernel_1203173/1946095462.py:100: UserWarning: 008d48bf_S2_11.tif had between 50% and 80% zeros in at least one band\n",
      "/tmp/ipykernel_1203173/1946095462.py:95: UserWarning: 009957ba_S2_09.tif had more than 80% zeros in at least one band\n",
      "/tmp/ipykernel_1203173/1946095462.py:95: UserWarning: 009957ba_S2_10.tif had more than 80% zeros in at least one band\n",
      "/tmp/ipykernel_1203173/1946095462.py:100: UserWarning: 0099b501_S2_09.tif had between 50% and 80% zeros in at least one band\n",
      "\n",
      "KeyboardInterrupt\n",
      "\n"
     ]
    }
   ],
   "source": [
    "for data in tqdm(my_dataset):\n",
    "    _sample, months = data"
   ]
  },
  {
   "cell_type": "code",
   "execution_count": 10,
   "id": "57292b3c-ece6-4178-8273-55e58d11489a",
   "metadata": {},
   "outputs": [
    {
     "data": {
      "text/plain": [
       "tensor([0.9650, 0.9650, 0.9650, 0.9650, 0.9650, 0.9650, 0.9650, 0.9650, 0.9650,\n",
       "        0.9650, 0.9652])"
      ]
     },
     "execution_count": 10,
     "metadata": {},
     "output_type": "execute_result"
    }
   ],
   "source": [
    "chk_zeros = my_dataset._read_tiff_to_tensor('/home/ubuntu/Thesis/backup_data/bioMass_data/train_features/ac963877_S2_10.tif',\n",
    "                                           check_zeros=False)\n",
    "\n",
    "# chk_zeros = my_dataset._read_tiff_to_tensor('/home/ubuntu/Thesis/backup_data/bioMass_data/test_features/01047f47_S2_07.tif',\n",
    "#                                            check_zeros=False)\n",
    "aux = chk_zeros.flatten(1, 2)\n",
    "aux = (aux==0).sum(dim=1)/aux.shape[-1]\n",
    "aux"
   ]
  },
  {
   "cell_type": "code",
   "execution_count": 11,
   "id": "b5c4f313-dee0-43e5-8e0e-00f16554ced0",
   "metadata": {},
   "outputs": [
    {
     "data": {
      "text/plain": [
       "tensor(True)"
      ]
     },
     "execution_count": 11,
     "metadata": {},
     "output_type": "execute_result"
    }
   ],
   "source": [
    "(aux>0.8).sum()>0"
   ]
  },
  {
   "cell_type": "code",
   "execution_count": 12,
   "id": "f99e05ea-9b96-4ed9-bf3e-6525a5ed6061",
   "metadata": {},
   "outputs": [],
   "source": [
    "# no_info_tensor = chk_zeros[aux>0.8]\n",
    "# new_tensor = torch.full_like(no_info_tensor, torch.nan, dtype=torch.float32, requires_grad=False, device='cpu')\n",
    "\n",
    "# new_tensor.shape\n",
    "\n",
    "# chk_zeros[aux>0.8] = new_tensor"
   ]
  },
  {
   "cell_type": "code",
   "execution_count": 14,
   "id": "6c9c70d0-d245-4786-9c08-6b592029ba7c",
   "metadata": {},
   "outputs": [
    {
     "data": {
      "text/plain": [
       "<matplotlib.image.AxesImage at 0x7f4c77748f10>"
      ]
     },
     "execution_count": 14,
     "metadata": {},
     "output_type": "execute_result"
    },
    {
     "data": {
      "image/png": "[encoded data removed]",
      "text/plain": [
       "<Figure size 640x480 with 1 Axes>"
      ]
     },
     "metadata": {},
     "output_type": "display_data"
    }
   ],
   "source": [
    "plt.imshow(chk_zeros[0].numpy())"
   ]
  },
  {
   "cell_type": "code",
   "execution_count": null,
   "id": "29179539-f58c-4116-b8dd-38557718057f",
   "metadata": {},
   "outputs": [],
   "source": []
  }
 ],
 "metadata": {
  "kernelspec": {
   "display_name": "Python 3 (ipykernel)",
   "language": "python",
   "name": "python3"
  },
  "language_info": {
   "codemirror_mode": {
    "name": "ipython",
    "version": 3
   },
   "file_extension": ".py",
   "mimetype": "text/x-python",
   "name": "python",
   "nbconvert_exporter": "python",
   "pygments_lexer": "ipython3",
   "version": "3.9.15"
  }
 },
 "nbformat": 4,
 "nbformat_minor": 5
}
