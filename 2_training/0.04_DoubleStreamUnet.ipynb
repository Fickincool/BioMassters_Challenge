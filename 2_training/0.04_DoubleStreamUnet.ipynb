{
 "cells": [
  {
   "cell_type": "code",
   "execution_count": 1,
   "id": "7618043d-d667-4052-be38-a942c511b5ad",
   "metadata": {},
   "outputs": [],
   "source": [
    "import bioMass.dataViz as dv\n",
    "from bioMass.dataloader import SentinelDataset, SentinelDataModule\n",
    "from bioMass.model import Unet, _DoubleStreamUnet\n",
    "from pytorch_lightning import Trainer\n",
    "import matplotlib.pyplot as plt\n",
    "import torch\n",
    "from torch.utils.data import DataLoader, random_split\n",
    "from tqdm.notebook import tqdm\n",
    "from torch import nn\n",
    "import os\n",
    "import numpy as np\n",
    "import pandas as pd\n",
    "\n",
    "from pytorch_lightning import loggers as pl_loggers\n",
    "\n",
    "%config Completer.use_jedi = False\n",
    "%matplotlib inline\n",
    "%load_ext autoreload\n",
    "%autoreload 2"
   ]
  },
  {
   "cell_type": "code",
   "execution_count": 2,
   "id": "bee0a061-6353-4b2b-b545-8f81331c481f",
   "metadata": {},
   "outputs": [],
   "source": [
    "dm = SentinelDataModule(max_chips=100, loader_device='cpu', num_workers=1)\n",
    "dm.setup('fit')"
   ]
  },
  {
   "cell_type": "code",
   "execution_count": 3,
   "id": "53408021-8624-4420-a685-586c811d0834",
   "metadata": {},
   "outputs": [],
   "source": [
    "loss_module = nn.MSELoss(reduction='mean')\n",
    "model = _DoubleStreamUnet(dropout_p=0.5)"
   ]
  },
  {
   "cell_type": "code",
   "execution_count": 4,
   "id": "3a6b3fff-87af-49f9-a997-321f1d3dfa03",
   "metadata": {},
   "outputs": [],
   "source": [
    "train_dataloader = dm.train_dataloader()\n",
    "val_dataloader = dm.val_dataloader()\n",
    "test_dataloader = dm.test_dataloader()"
   ]
  },
  {
   "cell_type": "code",
   "execution_count": 5,
   "id": "7991f667-dae3-47c2-a00e-22549cfb688a",
   "metadata": {},
   "outputs": [],
   "source": [
    "for sample in train_dataloader:\n",
    "    sample\n",
    "    break"
   ]
  },
  {
   "cell_type": "code",
   "execution_count": 6,
   "id": "cc5c7658-a1ee-4629-89b2-4b1caf68685a",
   "metadata": {},
   "outputs": [
    {
     "data": {
      "text/plain": [
       "torch.Size([32, 1, 256, 256])"
      ]
     },
     "execution_count": 6,
     "metadata": {},
     "output_type": "execute_result"
    }
   ],
   "source": [
    "model(sample['image_s1'], sample['image_s2']).shape"
   ]
  },
  {
   "cell_type": "code",
   "execution_count": null,
   "id": "d2922be7-9a19-4215-a897-27096ffb0780",
   "metadata": {},
   "outputs": [],
   "source": []
  }
 ],
 "metadata": {
  "kernelspec": {
   "display_name": "Python 3 (ipykernel)",
   "language": "python",
   "name": "python3"
  },
  "language_info": {
   "codemirror_mode": {
    "name": "ipython",
    "version": 3
   },
   "file_extension": ".py",
   "mimetype": "text/x-python",
   "name": "python",
   "nbconvert_exporter": "python",
   "pygments_lexer": "ipython3",
   "version": "3.9.15"
  }
 },
 "nbformat": 4,
 "nbformat_minor": 5
}
