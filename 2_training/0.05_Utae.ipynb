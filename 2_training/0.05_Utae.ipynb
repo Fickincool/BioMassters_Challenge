{
 "cells": [
  {
   "cell_type": "code",
   "execution_count": 1,
   "id": "2f889b71-8bd1-40b7-8bdd-a9b45c389b7a",
   "metadata": {},
   "outputs": [],
   "source": [
    "from bioMass.backbones import utae, unet3d, convlstm, convgru, fpn, ltae\n",
    "import torch\n",
    "from bioMass.dataloader2 import SentinelYearlyDataset, SentinelDataModule\n",
    "import matplotlib.pyplot as plt\n",
    "import warnings\n",
    "\n",
    "warnings.filterwarnings(\"ignore\")\n",
    "\n",
    "%config Completer.use_jedi = False\n",
    "%matplotlib inline\n",
    "%load_ext autoreload\n",
    "%autoreload 2"
   ]
  },
  {
   "cell_type": "markdown",
   "id": "39f14323-ea9c-4b96-9f01-5edbdc747936",
   "metadata": {},
   "source": [
    "# Simple model run"
   ]
  },
  {
   "cell_type": "code",
   "execution_count": 2,
   "id": "a17f86ca-9f38-42f7-8cde-c4ca2c7ea0e4",
   "metadata": {},
   "outputs": [],
   "source": [
    "model = utae.UTAE(\n",
    "    input_dim=4,\n",
    "    out_conv=[32, 1]\n",
    ")"
   ]
  },
  {
   "cell_type": "code",
   "execution_count": 3,
   "id": "1cec76e7-99dd-40f2-b627-11f7998c6830",
   "metadata": {},
   "outputs": [
    {
     "data": {
      "text/plain": [
       "torch.Size([2, 1, 256, 256])"
      ]
     },
     "execution_count": 3,
     "metadata": {},
     "output_type": "execute_result"
    }
   ],
   "source": [
    "batch_size = 2\n",
    "\n",
    "x = torch.rand((batch_size, 12, 4, 256, 256))\n",
    "bp = torch.Tensor(range(12)).repeat(batch_size).reshape(batch_size, 12)\n",
    "\n",
    "model(x, batch_positions=bp).shape"
   ]
  },
  {
   "cell_type": "markdown",
   "id": "5d601818-99c5-428f-b89b-da7f97b681b7",
   "metadata": {},
   "source": [
    "# Run with the Sentinel dataModule"
   ]
  },
  {
   "cell_type": "code",
   "execution_count": 3,
   "id": "92c9798f-d948-4c0e-8a66-d1360ddb917a",
   "metadata": {},
   "outputs": [],
   "source": [
    "dm = SentinelDataModule(is_train=True, max_chips=None, loader_device='cpu', num_workers=12, split_proportions=[0.8, 0.2, 0],\n",
    "                        batch_size=12)\n",
    "dm.setup('fit')\n",
    "\n",
    "bp = torch.Tensor(range(12)).repeat(dm.batch_size).reshape(dm.batch_size, 12)\n",
    "\n",
    "train_dataloader = dm.train_dataloader()\n",
    "len(train_dataloader)"
   ]
  },
  {
   "cell_type": "code",
   "execution_count": 4,
   "id": "52bc2857-704c-4ba6-93c4-e978315d2156",
   "metadata": {
    "collapsed": true,
    "jupyter": {
     "outputs_hidden": true
    },
    "tags": []
   },
   "outputs": [
    {
     "name": "stderr",
     "output_type": "stream",
     "text": [
      "/home/ubuntu/Thesis/miniconda3/envs/bioMass/lib/python3.9/site-packages/joblib/parallel.py:775: UserWarning: Loky-backed parallel loops cannot be called in a multiprocessing, setting n_jobs=1\n",
      "  n_jobs = self._backend.configure(n_jobs=self.n_jobs, parallel=self,\n",
      "/home/ubuntu/Thesis/miniconda3/envs/bioMass/lib/python3.9/site-packages/joblib/parallel.py:775: UserWarning: Loky-backed parallel loops cannot be called in a multiprocessing, setting n_jobs=1\n",
      "  n_jobs = self._backend.configure(n_jobs=self.n_jobs, parallel=self,\n",
      "/home/ubuntu/Thesis/miniconda3/envs/bioMass/lib/python3.9/site-packages/joblib/parallel.py:775: UserWarning: Loky-backed parallel loops cannot be called in a multiprocessing, setting n_jobs=1\n",
      "  n_jobs = self._backend.configure(n_jobs=self.n_jobs, parallel=self,\n",
      "/home/ubuntu/Thesis/miniconda3/envs/bioMass/lib/python3.9/site-packages/joblib/parallel.py:775: UserWarning: Loky-backed parallel loops cannot be called in a multiprocessing, setting n_jobs=1\n",
      "  n_jobs = self._backend.configure(n_jobs=self.n_jobs, parallel=self,\n",
      "/home/ubuntu/Thesis/miniconda3/envs/bioMass/lib/python3.9/site-packages/joblib/parallel.py:775: UserWarning: Loky-backed parallel loops cannot be called in a multiprocessing, setting n_jobs=1\n",
      "  n_jobs = self._backend.configure(n_jobs=self.n_jobs, parallel=self,\n",
      "/home/ubuntu/Thesis/miniconda3/envs/bioMass/lib/python3.9/site-packages/joblib/parallel.py:775: UserWarning: Loky-backed parallel loops cannot be called in a multiprocessing, setting n_jobs=1\n",
      "  n_jobs = self._backend.configure(n_jobs=self.n_jobs, parallel=self,\n",
      "/home/ubuntu/Thesis/miniconda3/envs/bioMass/lib/python3.9/site-packages/joblib/parallel.py:775: UserWarning: Loky-backed parallel loops cannot be called in a multiprocessing, setting n_jobs=1\n",
      "  n_jobs = self._backend.configure(n_jobs=self.n_jobs, parallel=self,\n",
      "/home/ubuntu/Thesis/miniconda3/envs/bioMass/lib/python3.9/site-packages/joblib/parallel.py:775: UserWarning: Loky-backed parallel loops cannot be called in a multiprocessing, setting n_jobs=1\n",
      "  n_jobs = self._backend.configure(n_jobs=self.n_jobs, parallel=self,\n",
      "/home/ubuntu/Thesis/miniconda3/envs/bioMass/lib/python3.9/site-packages/joblib/parallel.py:775: UserWarning: Loky-backed parallel loops cannot be called in a multiprocessing, setting n_jobs=1\n",
      "  n_jobs = self._backend.configure(n_jobs=self.n_jobs, parallel=self,\n",
      "/home/ubuntu/Thesis/miniconda3/envs/bioMass/lib/python3.9/site-packages/joblib/parallel.py:775: UserWarning: Loky-backed parallel loops cannot be called in a multiprocessing, setting n_jobs=1\n",
      "  n_jobs = self._backend.configure(n_jobs=self.n_jobs, parallel=self,\n",
      "/home/ubuntu/Thesis/miniconda3/envs/bioMass/lib/python3.9/site-packages/joblib/parallel.py:775: UserWarning: Loky-backed parallel loops cannot be called in a multiprocessing, setting n_jobs=1\n",
      "  n_jobs = self._backend.configure(n_jobs=self.n_jobs, parallel=self,\n",
      "/home/ubuntu/Thesis/miniconda3/envs/bioMass/lib/python3.9/site-packages/joblib/parallel.py:775: UserWarning: Loky-backed parallel loops cannot be called in a multiprocessing, setting n_jobs=1\n",
      "  n_jobs = self._backend.configure(n_jobs=self.n_jobs, parallel=self,\n",
      "/vol/data2/BioMassters_Challenge/bioMass/bioMass/dataloader2.py:114: UserWarning: a74a462e_S2_00.tif had more than 80% zeros in at least one band\n",
      "  warnings.warn(f'{problematic_file} had more than 80% zeros in at least one band')\n",
      "/vol/data2/BioMassters_Challenge/bioMass/bioMass/dataloader2.py:114: UserWarning: a74a462e_S2_01.tif had more than 80% zeros in at least one band\n",
      "  warnings.warn(f'{problematic_file} had more than 80% zeros in at least one band')\n",
      "/vol/data2/BioMassters_Challenge/bioMass/bioMass/dataloader2.py:114: UserWarning: a74a462e_S2_07.tif had more than 80% zeros in at least one band\n",
      "  warnings.warn(f'{problematic_file} had more than 80% zeros in at least one band')\n",
      "/vol/data2/BioMassters_Challenge/bioMass/bioMass/dataloader2.py:114: UserWarning: a74a462e_S2_08.tif had more than 80% zeros in at least one band\n",
      "  warnings.warn(f'{problematic_file} had more than 80% zeros in at least one band')\n",
      "/vol/data2/BioMassters_Challenge/bioMass/bioMass/dataloader2.py:114: UserWarning: a74a462e_S2_10.tif had more than 80% zeros in at least one band\n",
      "  warnings.warn(f'{problematic_file} had more than 80% zeros in at least one band')\n",
      "/vol/data2/BioMassters_Challenge/bioMass/bioMass/dataloader2.py:114: UserWarning: 540681f3_S2_07.tif had more than 80% zeros in at least one band\n",
      "  warnings.warn(f'{problematic_file} had more than 80% zeros in at least one band')\n",
      "/vol/data2/BioMassters_Challenge/bioMass/bioMass/dataloader2.py:114: UserWarning: 540681f3_S2_09.tif had more than 80% zeros in at least one band\n",
      "  warnings.warn(f'{problematic_file} had more than 80% zeros in at least one band')\n",
      "/vol/data2/BioMassters_Challenge/bioMass/bioMass/dataloader2.py:114: UserWarning: 540681f3_S2_10.tif had more than 80% zeros in at least one band\n",
      "  warnings.warn(f'{problematic_file} had more than 80% zeros in at least one band')\n",
      "/vol/data2/BioMassters_Challenge/bioMass/bioMass/dataloader2.py:114: UserWarning: 38d42130_S2_00.tif had more than 80% zeros in at least one band\n",
      "  warnings.warn(f'{problematic_file} had more than 80% zeros in at least one band')\n",
      "/vol/data2/BioMassters_Challenge/bioMass/bioMass/dataloader2.py:114: UserWarning: 67267a49_S1_00.tif had more than 80% zeros in at least one band\n",
      "  warnings.warn(f'{problematic_file} had more than 80% zeros in at least one band')\n",
      "/vol/data2/BioMassters_Challenge/bioMass/bioMass/dataloader2.py:114: UserWarning: 67267a49_S1_01.tif had more than 80% zeros in at least one band\n",
      "  warnings.warn(f'{problematic_file} had more than 80% zeros in at least one band')\n",
      "/vol/data2/BioMassters_Challenge/bioMass/bioMass/dataloader2.py:114: UserWarning: 67267a49_S1_02.tif had more than 80% zeros in at least one band\n",
      "  warnings.warn(f'{problematic_file} had more than 80% zeros in at least one band')\n",
      "/vol/data2/BioMassters_Challenge/bioMass/bioMass/dataloader2.py:114: UserWarning: 67267a49_S1_03.tif had more than 80% zeros in at least one band\n",
      "  warnings.warn(f'{problematic_file} had more than 80% zeros in at least one band')\n",
      "/vol/data2/BioMassters_Challenge/bioMass/bioMass/dataloader2.py:114: UserWarning: 67267a49_S1_04.tif had more than 80% zeros in at least one band\n",
      "  warnings.warn(f'{problematic_file} had more than 80% zeros in at least one band')\n",
      "/vol/data2/BioMassters_Challenge/bioMass/bioMass/dataloader2.py:114: UserWarning: 67267a49_S1_05.tif had more than 80% zeros in at least one band\n",
      "  warnings.warn(f'{problematic_file} had more than 80% zeros in at least one band')\n",
      "/vol/data2/BioMassters_Challenge/bioMass/bioMass/dataloader2.py:114: UserWarning: 67267a49_S1_06.tif had more than 80% zeros in at least one band\n",
      "  warnings.warn(f'{problematic_file} had more than 80% zeros in at least one band')\n",
      "/vol/data2/BioMassters_Challenge/bioMass/bioMass/dataloader2.py:114: UserWarning: 67267a49_S1_07.tif had more than 80% zeros in at least one band\n",
      "  warnings.warn(f'{problematic_file} had more than 80% zeros in at least one band')\n",
      "/vol/data2/BioMassters_Challenge/bioMass/bioMass/dataloader2.py:114: UserWarning: 67267a49_S1_08.tif had more than 80% zeros in at least one band\n",
      "  warnings.warn(f'{problematic_file} had more than 80% zeros in at least one band')\n",
      "/vol/data2/BioMassters_Challenge/bioMass/bioMass/dataloader2.py:114: UserWarning: 67267a49_S1_09.tif had more than 80% zeros in at least one band\n",
      "  warnings.warn(f'{problematic_file} had more than 80% zeros in at least one band')\n",
      "/vol/data2/BioMassters_Challenge/bioMass/bioMass/dataloader2.py:114: UserWarning: 67267a49_S1_10.tif had more than 80% zeros in at least one band\n",
      "  warnings.warn(f'{problematic_file} had more than 80% zeros in at least one band')\n",
      "/vol/data2/BioMassters_Challenge/bioMass/bioMass/dataloader2.py:114: UserWarning: 67267a49_S1_11.tif had more than 80% zeros in at least one band\n",
      "  warnings.warn(f'{problematic_file} had more than 80% zeros in at least one band')\n",
      "/vol/data2/BioMassters_Challenge/bioMass/bioMass/dataloader2.py:114: UserWarning: 38d42130_S2_06.tif had more than 80% zeros in at least one band\n",
      "  warnings.warn(f'{problematic_file} had more than 80% zeros in at least one band')\n",
      "/vol/data2/BioMassters_Challenge/bioMass/bioMass/dataloader2.py:114: UserWarning: 38d42130_S2_07.tif had more than 80% zeros in at least one band\n",
      "  warnings.warn(f'{problematic_file} had more than 80% zeros in at least one band')\n",
      "/vol/data2/BioMassters_Challenge/bioMass/bioMass/dataloader2.py:114: UserWarning: 38d42130_S2_08.tif had more than 80% zeros in at least one band\n",
      "  warnings.warn(f'{problematic_file} had more than 80% zeros in at least one band')\n",
      "/vol/data2/BioMassters_Challenge/bioMass/bioMass/dataloader2.py:114: UserWarning: 38d42130_S2_09.tif had more than 80% zeros in at least one band\n",
      "  warnings.warn(f'{problematic_file} had more than 80% zeros in at least one band')\n",
      "/vol/data2/BioMassters_Challenge/bioMass/bioMass/dataloader2.py:114: UserWarning: 38d42130_S2_10.tif had more than 80% zeros in at least one band\n",
      "  warnings.warn(f'{problematic_file} had more than 80% zeros in at least one band')\n",
      "/vol/data2/BioMassters_Challenge/bioMass/bioMass/dataloader2.py:114: UserWarning: 38d42130_S2_11.tif had more than 80% zeros in at least one band\n",
      "  warnings.warn(f'{problematic_file} had more than 80% zeros in at least one band')\n",
      "/vol/data2/BioMassters_Challenge/bioMass/bioMass/dataloader2.py:114: UserWarning: 56c0cfb7_S2_08.tif had more than 80% zeros in at least one band\n",
      "  warnings.warn(f'{problematic_file} had more than 80% zeros in at least one band')\n",
      "/vol/data2/BioMassters_Challenge/bioMass/bioMass/dataloader2.py:114: UserWarning: 56c0cfb7_S2_10.tif had more than 80% zeros in at least one band\n",
      "  warnings.warn(f'{problematic_file} had more than 80% zeros in at least one band')\n",
      "/vol/data2/BioMassters_Challenge/bioMass/bioMass/dataloader2.py:114: UserWarning: 56c0cfb7_S2_11.tif had more than 80% zeros in at least one band\n",
      "  warnings.warn(f'{problematic_file} had more than 80% zeros in at least one band')\n",
      "/vol/data2/BioMassters_Challenge/bioMass/bioMass/dataloader2.py:114: UserWarning: 686b7200_S2_00.tif had more than 80% zeros in at least one band\n",
      "  warnings.warn(f'{problematic_file} had more than 80% zeros in at least one band')\n",
      "/vol/data2/BioMassters_Challenge/bioMass/bioMass/dataloader2.py:114: UserWarning: d9434d73_S2_09.tif had more than 80% zeros in at least one band\n",
      "  warnings.warn(f'{problematic_file} had more than 80% zeros in at least one band')\n",
      "/vol/data2/BioMassters_Challenge/bioMass/bioMass/dataloader2.py:114: UserWarning: 686b7200_S2_02.tif had more than 80% zeros in at least one band\n",
      "  warnings.warn(f'{problematic_file} had more than 80% zeros in at least one band')\n",
      "/vol/data2/BioMassters_Challenge/bioMass/bioMass/dataloader2.py:114: UserWarning: 686b7200_S2_05.tif had more than 80% zeros in at least one band\n",
      "  warnings.warn(f'{problematic_file} had more than 80% zeros in at least one band')\n",
      "/vol/data2/BioMassters_Challenge/bioMass/bioMass/dataloader2.py:114: UserWarning: 686b7200_S2_06.tif had more than 80% zeros in at least one band\n",
      "  warnings.warn(f'{problematic_file} had more than 80% zeros in at least one band')\n",
      "/vol/data2/BioMassters_Challenge/bioMass/bioMass/dataloader2.py:114: UserWarning: 686b7200_S2_07.tif had more than 80% zeros in at least one band\n",
      "  warnings.warn(f'{problematic_file} had more than 80% zeros in at least one band')\n",
      "/vol/data2/BioMassters_Challenge/bioMass/bioMass/dataloader2.py:114: UserWarning: 686b7200_S2_08.tif had more than 80% zeros in at least one band\n",
      "  warnings.warn(f'{problematic_file} had more than 80% zeros in at least one band')\n",
      "/vol/data2/BioMassters_Challenge/bioMass/bioMass/dataloader2.py:114: UserWarning: 686b7200_S2_11.tif had more than 80% zeros in at least one band\n",
      "  warnings.warn(f'{problematic_file} had more than 80% zeros in at least one band')\n",
      "/vol/data2/BioMassters_Challenge/bioMass/bioMass/dataloader2.py:114: UserWarning: 84257232_S2_10.tif had more than 80% zeros in at least one band\n",
      "  warnings.warn(f'{problematic_file} had more than 80% zeros in at least one band')\n",
      "/vol/data2/BioMassters_Challenge/bioMass/bioMass/dataloader2.py:114: UserWarning: 75b482d7_S2_07.tif had more than 80% zeros in at least one band\n",
      "  warnings.warn(f'{problematic_file} had more than 80% zeros in at least one band')\n",
      "/vol/data2/BioMassters_Challenge/bioMass/bioMass/dataloader2.py:114: UserWarning: 2345e099_S2_07.tif had more than 80% zeros in at least one band\n",
      "  warnings.warn(f'{problematic_file} had more than 80% zeros in at least one band')\n",
      "/vol/data2/BioMassters_Challenge/bioMass/bioMass/dataloader2.py:114: UserWarning: 83364f86_S2_01.tif had more than 80% zeros in at least one band\n",
      "  warnings.warn(f'{problematic_file} had more than 80% zeros in at least one band')\n",
      "/vol/data2/BioMassters_Challenge/bioMass/bioMass/dataloader2.py:114: UserWarning: 83364f86_S2_05.tif had more than 80% zeros in at least one band\n",
      "  warnings.warn(f'{problematic_file} had more than 80% zeros in at least one band')\n",
      "/vol/data2/BioMassters_Challenge/bioMass/bioMass/dataloader2.py:114: UserWarning: 83364f86_S2_06.tif had more than 80% zeros in at least one band\n",
      "  warnings.warn(f'{problematic_file} had more than 80% zeros in at least one band')\n",
      "/vol/data2/BioMassters_Challenge/bioMass/bioMass/dataloader2.py:114: UserWarning: c6a00b20_S2_10.tif had more than 80% zeros in at least one band\n",
      "  warnings.warn(f'{problematic_file} had more than 80% zeros in at least one band')\n",
      "/vol/data2/BioMassters_Challenge/bioMass/bioMass/dataloader2.py:114: UserWarning: 83364f86_S2_08.tif had more than 80% zeros in at least one band\n",
      "  warnings.warn(f'{problematic_file} had more than 80% zeros in at least one band')\n",
      "/vol/data2/BioMassters_Challenge/bioMass/bioMass/dataloader2.py:114: UserWarning: 83364f86_S2_09.tif had more than 80% zeros in at least one band\n",
      "  warnings.warn(f'{problematic_file} had more than 80% zeros in at least one band')\n",
      "/vol/data2/BioMassters_Challenge/bioMass/bioMass/dataloader2.py:114: UserWarning: 83364f86_S2_10.tif had more than 80% zeros in at least one band\n",
      "  warnings.warn(f'{problematic_file} had more than 80% zeros in at least one band')\n",
      "/vol/data2/BioMassters_Challenge/bioMass/bioMass/dataloader2.py:114: UserWarning: 83364f86_S2_11.tif had more than 80% zeros in at least one band\n",
      "  warnings.warn(f'{problematic_file} had more than 80% zeros in at least one band')\n",
      "/vol/data2/BioMassters_Challenge/bioMass/bioMass/dataloader2.py:114: UserWarning: 4058e7ff_S1_08.tif had more than 80% zeros in at least one band\n",
      "  warnings.warn(f'{problematic_file} had more than 80% zeros in at least one band')\n",
      "/vol/data2/BioMassters_Challenge/bioMass/bioMass/dataloader2.py:114: UserWarning: 4058e7ff_S1_09.tif had more than 80% zeros in at least one band\n",
      "  warnings.warn(f'{problematic_file} had more than 80% zeros in at least one band')\n",
      "/vol/data2/BioMassters_Challenge/bioMass/bioMass/dataloader2.py:114: UserWarning: 1fc37020_S2_00.tif had more than 80% zeros in at least one band\n",
      "  warnings.warn(f'{problematic_file} had more than 80% zeros in at least one band')\n",
      "/vol/data2/BioMassters_Challenge/bioMass/bioMass/dataloader2.py:114: UserWarning: 1fc37020_S2_08.tif had more than 80% zeros in at least one band\n",
      "  warnings.warn(f'{problematic_file} had more than 80% zeros in at least one band')\n",
      "/vol/data2/BioMassters_Challenge/bioMass/bioMass/dataloader2.py:114: UserWarning: 95bfa78b_S2_08.tif had more than 80% zeros in at least one band\n",
      "  warnings.warn(f'{problematic_file} had more than 80% zeros in at least one band')\n",
      "/vol/data2/BioMassters_Challenge/bioMass/bioMass/dataloader2.py:114: UserWarning: 1fc37020_S2_10.tif had more than 80% zeros in at least one band\n",
      "  warnings.warn(f'{problematic_file} had more than 80% zeros in at least one band')\n",
      "/vol/data2/BioMassters_Challenge/bioMass/bioMass/dataloader2.py:114: UserWarning: bf18e08b_S2_07.tif had more than 80% zeros in at least one band\n",
      "  warnings.warn(f'{problematic_file} had more than 80% zeros in at least one band')\n",
      "/vol/data2/BioMassters_Challenge/bioMass/bioMass/dataloader2.py:114: UserWarning: 3250b082_S2_00.tif had more than 80% zeros in at least one band\n",
      "  warnings.warn(f'{problematic_file} had more than 80% zeros in at least one band')\n",
      "/vol/data2/BioMassters_Challenge/bioMass/bioMass/dataloader2.py:114: UserWarning: 3250b082_S2_01.tif had more than 80% zeros in at least one band\n",
      "  warnings.warn(f'{problematic_file} had more than 80% zeros in at least one band')\n",
      "/vol/data2/BioMassters_Challenge/bioMass/bioMass/dataloader2.py:114: UserWarning: 3250b082_S2_02.tif had more than 80% zeros in at least one band\n",
      "  warnings.warn(f'{problematic_file} had more than 80% zeros in at least one band')\n",
      "/vol/data2/BioMassters_Challenge/bioMass/bioMass/dataloader2.py:114: UserWarning: 3250b082_S2_04.tif had more than 80% zeros in at least one band\n",
      "  warnings.warn(f'{problematic_file} had more than 80% zeros in at least one band')\n",
      "/vol/data2/BioMassters_Challenge/bioMass/bioMass/dataloader2.py:114: UserWarning: 7c1d6b0c_S2_10.tif had more than 80% zeros in at least one band\n",
      "  warnings.warn(f'{problematic_file} had more than 80% zeros in at least one band')\n",
      "/vol/data2/BioMassters_Challenge/bioMass/bioMass/dataloader2.py:114: UserWarning: 3250b082_S2_05.tif had more than 80% zeros in at least one band\n",
      "  warnings.warn(f'{problematic_file} had more than 80% zeros in at least one band')\n",
      "/vol/data2/BioMassters_Challenge/bioMass/bioMass/dataloader2.py:114: UserWarning: 3250b082_S2_06.tif had more than 80% zeros in at least one band\n",
      "  warnings.warn(f'{problematic_file} had more than 80% zeros in at least one band')\n",
      "/vol/data2/BioMassters_Challenge/bioMass/bioMass/dataloader2.py:114: UserWarning: 3250b082_S2_07.tif had more than 80% zeros in at least one band\n",
      "  warnings.warn(f'{problematic_file} had more than 80% zeros in at least one band')\n",
      "/vol/data2/BioMassters_Challenge/bioMass/bioMass/dataloader2.py:114: UserWarning: 3250b082_S2_08.tif had more than 80% zeros in at least one band\n",
      "  warnings.warn(f'{problematic_file} had more than 80% zeros in at least one band')\n",
      "/vol/data2/BioMassters_Challenge/bioMass/bioMass/dataloader2.py:114: UserWarning: 3250b082_S2_09.tif had more than 80% zeros in at least one band\n",
      "  warnings.warn(f'{problematic_file} had more than 80% zeros in at least one band')\n",
      "/vol/data2/BioMassters_Challenge/bioMass/bioMass/dataloader2.py:114: UserWarning: 3250b082_S2_10.tif had more than 80% zeros in at least one band\n",
      "  warnings.warn(f'{problematic_file} had more than 80% zeros in at least one band')\n",
      "/vol/data2/BioMassters_Challenge/bioMass/bioMass/dataloader2.py:114: UserWarning: 3250b082_S2_11.tif had more than 80% zeros in at least one band\n",
      "  warnings.warn(f'{problematic_file} had more than 80% zeros in at least one band')\n",
      "/vol/data2/BioMassters_Challenge/bioMass/bioMass/dataloader2.py:114: UserWarning: f5315f7a_S2_01.tif had more than 80% zeros in at least one band\n",
      "  warnings.warn(f'{problematic_file} had more than 80% zeros in at least one band')\n",
      "/vol/data2/BioMassters_Challenge/bioMass/bioMass/dataloader2.py:114: UserWarning: f7ed3273_S2_09.tif had more than 80% zeros in at least one band\n",
      "  warnings.warn(f'{problematic_file} had more than 80% zeros in at least one band')\n",
      "/vol/data2/BioMassters_Challenge/bioMass/bioMass/dataloader2.py:114: UserWarning: f7ed3273_S2_10.tif had more than 80% zeros in at least one band\n",
      "  warnings.warn(f'{problematic_file} had more than 80% zeros in at least one band')\n",
      "/vol/data2/BioMassters_Challenge/bioMass/bioMass/dataloader2.py:114: UserWarning: 17b83678_S2_00.tif had more than 80% zeros in at least one band\n",
      "  warnings.warn(f'{problematic_file} had more than 80% zeros in at least one band')\n",
      "/vol/data2/BioMassters_Challenge/bioMass/bioMass/dataloader2.py:114: UserWarning: 17b83678_S2_01.tif had more than 80% zeros in at least one band\n",
      "  warnings.warn(f'{problematic_file} had more than 80% zeros in at least one band')\n",
      "/vol/data2/BioMassters_Challenge/bioMass/bioMass/dataloader2.py:114: UserWarning: 17b83678_S2_02.tif had more than 80% zeros in at least one band\n",
      "  warnings.warn(f'{problematic_file} had more than 80% zeros in at least one band')\n",
      "/vol/data2/BioMassters_Challenge/bioMass/bioMass/dataloader2.py:114: UserWarning: 17b83678_S2_04.tif had more than 80% zeros in at least one band\n",
      "  warnings.warn(f'{problematic_file} had more than 80% zeros in at least one band')\n",
      "/vol/data2/BioMassters_Challenge/bioMass/bioMass/dataloader2.py:114: UserWarning: 17b83678_S2_05.tif had more than 80% zeros in at least one band\n",
      "  warnings.warn(f'{problematic_file} had more than 80% zeros in at least one band')\n",
      "/vol/data2/BioMassters_Challenge/bioMass/bioMass/dataloader2.py:114: UserWarning: 52e56fd7_S2_00.tif had more than 80% zeros in at least one band\n",
      "  warnings.warn(f'{problematic_file} had more than 80% zeros in at least one band')\n",
      "/vol/data2/BioMassters_Challenge/bioMass/bioMass/dataloader2.py:114: UserWarning: 17b83678_S2_07.tif had more than 80% zeros in at least one band\n",
      "  warnings.warn(f'{problematic_file} had more than 80% zeros in at least one band')\n",
      "/vol/data2/BioMassters_Challenge/bioMass/bioMass/dataloader2.py:114: UserWarning: f2591902_S2_06.tif had more than 80% zeros in at least one band\n",
      "  warnings.warn(f'{problematic_file} had more than 80% zeros in at least one band')\n",
      "/vol/data2/BioMassters_Challenge/bioMass/bioMass/dataloader2.py:114: UserWarning: 17b83678_S2_08.tif had more than 80% zeros in at least one band\n",
      "  warnings.warn(f'{problematic_file} had more than 80% zeros in at least one band')\n",
      "/vol/data2/BioMassters_Challenge/bioMass/bioMass/dataloader2.py:114: UserWarning: 17b83678_S2_09.tif had more than 80% zeros in at least one band\n",
      "  warnings.warn(f'{problematic_file} had more than 80% zeros in at least one band')\n",
      "/vol/data2/BioMassters_Challenge/bioMass/bioMass/dataloader2.py:114: UserWarning: 17b83678_S2_10.tif had more than 80% zeros in at least one band\n",
      "  warnings.warn(f'{problematic_file} had more than 80% zeros in at least one band')\n",
      "/vol/data2/BioMassters_Challenge/bioMass/bioMass/dataloader2.py:114: UserWarning: 17b83678_S2_11.tif had more than 80% zeros in at least one band\n",
      "  warnings.warn(f'{problematic_file} had more than 80% zeros in at least one band')\n",
      "/vol/data2/BioMassters_Challenge/bioMass/bioMass/dataloader2.py:114: UserWarning: 2b3f4638_S2_01.tif had more than 80% zeros in at least one band\n",
      "  warnings.warn(f'{problematic_file} had more than 80% zeros in at least one band')\n",
      "/vol/data2/BioMassters_Challenge/bioMass/bioMass/dataloader2.py:114: UserWarning: 2b3f4638_S2_02.tif had more than 80% zeros in at least one band\n",
      "  warnings.warn(f'{problematic_file} had more than 80% zeros in at least one band')\n",
      "/vol/data2/BioMassters_Challenge/bioMass/bioMass/dataloader2.py:114: UserWarning: 2b3f4638_S2_04.tif had more than 80% zeros in at least one band\n",
      "  warnings.warn(f'{problematic_file} had more than 80% zeros in at least one band')\n",
      "/vol/data2/BioMassters_Challenge/bioMass/bioMass/dataloader2.py:114: UserWarning: 2b3f4638_S2_05.tif had more than 80% zeros in at least one band\n",
      "  warnings.warn(f'{problematic_file} had more than 80% zeros in at least one band')\n",
      "/vol/data2/BioMassters_Challenge/bioMass/bioMass/dataloader2.py:114: UserWarning: 2b3f4638_S2_06.tif had more than 80% zeros in at least one band\n",
      "  warnings.warn(f'{problematic_file} had more than 80% zeros in at least one band')\n",
      "/vol/data2/BioMassters_Challenge/bioMass/bioMass/dataloader2.py:114: UserWarning: 2b3f4638_S2_07.tif had more than 80% zeros in at least one band\n",
      "  warnings.warn(f'{problematic_file} had more than 80% zeros in at least one band')\n",
      "/vol/data2/BioMassters_Challenge/bioMass/bioMass/dataloader2.py:114: UserWarning: d86f4744_S1_02.tif had more than 80% zeros in at least one band\n",
      "  warnings.warn(f'{problematic_file} had more than 80% zeros in at least one band')\n",
      "/vol/data2/BioMassters_Challenge/bioMass/bioMass/dataloader2.py:114: UserWarning: d86f4744_S1_03.tif had more than 80% zeros in at least one band\n",
      "  warnings.warn(f'{problematic_file} had more than 80% zeros in at least one band')\n",
      "/vol/data2/BioMassters_Challenge/bioMass/bioMass/dataloader2.py:114: UserWarning: d86f4744_S1_04.tif had more than 80% zeros in at least one band\n",
      "  warnings.warn(f'{problematic_file} had more than 80% zeros in at least one band')\n",
      "/vol/data2/BioMassters_Challenge/bioMass/bioMass/dataloader2.py:114: UserWarning: d86f4744_S1_05.tif had more than 80% zeros in at least one band\n",
      "  warnings.warn(f'{problematic_file} had more than 80% zeros in at least one band')\n",
      "/vol/data2/BioMassters_Challenge/bioMass/bioMass/dataloader2.py:114: UserWarning: d86f4744_S1_06.tif had more than 80% zeros in at least one band\n",
      "  warnings.warn(f'{problematic_file} had more than 80% zeros in at least one band')\n",
      "/vol/data2/BioMassters_Challenge/bioMass/bioMass/dataloader2.py:114: UserWarning: d86f4744_S1_07.tif had more than 80% zeros in at least one band\n",
      "  warnings.warn(f'{problematic_file} had more than 80% zeros in at least one band')\n",
      "/vol/data2/BioMassters_Challenge/bioMass/bioMass/dataloader2.py:114: UserWarning: aba81e3c_S2_08.tif had more than 80% zeros in at least one band\n",
      "  warnings.warn(f'{problematic_file} had more than 80% zeros in at least one band')\n",
      "/vol/data2/BioMassters_Challenge/bioMass/bioMass/dataloader2.py:114: UserWarning: aba81e3c_S2_11.tif had more than 80% zeros in at least one band\n",
      "  warnings.warn(f'{problematic_file} had more than 80% zeros in at least one band')\n",
      "/vol/data2/BioMassters_Challenge/bioMass/bioMass/dataloader2.py:114: UserWarning: a3e4db43_S2_11.tif had more than 80% zeros in at least one band\n",
      "  warnings.warn(f'{problematic_file} had more than 80% zeros in at least one band')\n",
      "/vol/data2/BioMassters_Challenge/bioMass/bioMass/dataloader2.py:114: UserWarning: 32d17ff6_S2_08.tif had more than 80% zeros in at least one band\n",
      "  warnings.warn(f'{problematic_file} had more than 80% zeros in at least one band')\n",
      "/vol/data2/BioMassters_Challenge/bioMass/bioMass/dataloader2.py:114: UserWarning: dba50c51_S2_08.tif had more than 80% zeros in at least one band\n",
      "  warnings.warn(f'{problematic_file} had more than 80% zeros in at least one band')\n",
      "/vol/data2/BioMassters_Challenge/bioMass/bioMass/dataloader2.py:114: UserWarning: dba50c51_S2_10.tif had more than 80% zeros in at least one band\n",
      "  warnings.warn(f'{problematic_file} had more than 80% zeros in at least one band')\n",
      "/vol/data2/BioMassters_Challenge/bioMass/bioMass/dataloader2.py:114: UserWarning: d470e1dd_S2_11.tif had more than 80% zeros in at least one band\n",
      "  warnings.warn(f'{problematic_file} had more than 80% zeros in at least one band')\n",
      "/vol/data2/BioMassters_Challenge/bioMass/bioMass/dataloader2.py:114: UserWarning: 4741007f_S2_05.tif had more than 80% zeros in at least one band\n",
      "  warnings.warn(f'{problematic_file} had more than 80% zeros in at least one band')\n",
      "/vol/data2/BioMassters_Challenge/bioMass/bioMass/dataloader2.py:114: UserWarning: 31472dc4_S2_08.tif had more than 80% zeros in at least one band\n",
      "  warnings.warn(f'{problematic_file} had more than 80% zeros in at least one band')\n",
      "/vol/data2/BioMassters_Challenge/bioMass/bioMass/dataloader2.py:114: UserWarning: d7f4be04_S2_10.tif had more than 80% zeros in at least one band\n",
      "  warnings.warn(f'{problematic_file} had more than 80% zeros in at least one band')\n",
      "/vol/data2/BioMassters_Challenge/bioMass/bioMass/dataloader2.py:114: UserWarning: bafe2a01_S2_00.tif had more than 80% zeros in at least one band\n",
      "  warnings.warn(f'{problematic_file} had more than 80% zeros in at least one band')\n",
      "/vol/data2/BioMassters_Challenge/bioMass/bioMass/dataloader2.py:114: UserWarning: bafe2a01_S2_05.tif had more than 80% zeros in at least one band\n",
      "  warnings.warn(f'{problematic_file} had more than 80% zeros in at least one band')\n",
      "/vol/data2/BioMassters_Challenge/bioMass/bioMass/dataloader2.py:114: UserWarning: bafe2a01_S2_06.tif had more than 80% zeros in at least one band\n",
      "  warnings.warn(f'{problematic_file} had more than 80% zeros in at least one band')\n",
      "/vol/data2/BioMassters_Challenge/bioMass/bioMass/dataloader2.py:114: UserWarning: bafe2a01_S2_07.tif had more than 80% zeros in at least one band\n",
      "  warnings.warn(f'{problematic_file} had more than 80% zeros in at least one band')\n",
      "/vol/data2/BioMassters_Challenge/bioMass/bioMass/dataloader2.py:114: UserWarning: bafe2a01_S2_10.tif had more than 80% zeros in at least one band\n",
      "  warnings.warn(f'{problematic_file} had more than 80% zeros in at least one band')\n",
      "/vol/data2/BioMassters_Challenge/bioMass/bioMass/dataloader2.py:114: UserWarning: bafe2a01_S2_11.tif had more than 80% zeros in at least one band\n",
      "  warnings.warn(f'{problematic_file} had more than 80% zeros in at least one band')\n",
      "/vol/data2/BioMassters_Challenge/bioMass/bioMass/dataloader2.py:114: UserWarning: ebe84737_S2_00.tif had more than 80% zeros in at least one band\n",
      "  warnings.warn(f'{problematic_file} had more than 80% zeros in at least one band')\n",
      "/vol/data2/BioMassters_Challenge/bioMass/bioMass/dataloader2.py:114: UserWarning: ebe84737_S2_02.tif had more than 80% zeros in at least one band\n",
      "  warnings.warn(f'{problematic_file} had more than 80% zeros in at least one band')\n",
      "/vol/data2/BioMassters_Challenge/bioMass/bioMass/dataloader2.py:114: UserWarning: ebe84737_S2_05.tif had more than 80% zeros in at least one band\n",
      "  warnings.warn(f'{problematic_file} had more than 80% zeros in at least one band')\n",
      "/vol/data2/BioMassters_Challenge/bioMass/bioMass/dataloader2.py:114: UserWarning: ebe84737_S2_06.tif had more than 80% zeros in at least one band\n",
      "  warnings.warn(f'{problematic_file} had more than 80% zeros in at least one band')\n",
      "/vol/data2/BioMassters_Challenge/bioMass/bioMass/dataloader2.py:114: UserWarning: ebe84737_S2_07.tif had more than 80% zeros in at least one band\n",
      "  warnings.warn(f'{problematic_file} had more than 80% zeros in at least one band')\n",
      "/vol/data2/BioMassters_Challenge/bioMass/bioMass/dataloader2.py:114: UserWarning: ebe84737_S2_08.tif had more than 80% zeros in at least one band\n",
      "  warnings.warn(f'{problematic_file} had more than 80% zeros in at least one band')\n",
      "/vol/data2/BioMassters_Challenge/bioMass/bioMass/dataloader2.py:114: UserWarning: ebe84737_S2_09.tif had more than 80% zeros in at least one band\n",
      "  warnings.warn(f'{problematic_file} had more than 80% zeros in at least one band')\n",
      "/vol/data2/BioMassters_Challenge/bioMass/bioMass/dataloader2.py:114: UserWarning: ebe84737_S2_10.tif had more than 80% zeros in at least one band\n",
      "  warnings.warn(f'{problematic_file} had more than 80% zeros in at least one band')\n",
      "/vol/data2/BioMassters_Challenge/bioMass/bioMass/dataloader2.py:114: UserWarning: ebe84737_S2_11.tif had more than 80% zeros in at least one band\n",
      "  warnings.warn(f'{problematic_file} had more than 80% zeros in at least one band')\n",
      "/vol/data2/BioMassters_Challenge/bioMass/bioMass/dataloader2.py:114: UserWarning: 04011347_S2_08.tif had more than 80% zeros in at least one band\n",
      "  warnings.warn(f'{problematic_file} had more than 80% zeros in at least one band')\n",
      "/vol/data2/BioMassters_Challenge/bioMass/bioMass/dataloader2.py:114: UserWarning: b9b1e451_S2_07.tif had more than 80% zeros in at least one band\n",
      "  warnings.warn(f'{problematic_file} had more than 80% zeros in at least one band')\n",
      "/vol/data2/BioMassters_Challenge/bioMass/bioMass/dataloader2.py:114: UserWarning: 2cc2ebc4_S2_01.tif had more than 80% zeros in at least one band\n",
      "  warnings.warn(f'{problematic_file} had more than 80% zeros in at least one band')\n",
      "/vol/data2/BioMassters_Challenge/bioMass/bioMass/dataloader2.py:114: UserWarning: 2cc2ebc4_S2_02.tif had more than 80% zeros in at least one band\n",
      "  warnings.warn(f'{problematic_file} had more than 80% zeros in at least one band')\n",
      "/vol/data2/BioMassters_Challenge/bioMass/bioMass/dataloader2.py:114: UserWarning: 1e48eed0_S2_06.tif had more than 80% zeros in at least one band\n",
      "  warnings.warn(f'{problematic_file} had more than 80% zeros in at least one band')\n",
      "/vol/data2/BioMassters_Challenge/bioMass/bioMass/dataloader2.py:114: UserWarning: 2cc2ebc4_S2_05.tif had more than 80% zeros in at least one band\n",
      "  warnings.warn(f'{problematic_file} had more than 80% zeros in at least one band')\n",
      "/vol/data2/BioMassters_Challenge/bioMass/bioMass/dataloader2.py:114: UserWarning: 2cc2ebc4_S2_06.tif had more than 80% zeros in at least one band\n",
      "  warnings.warn(f'{problematic_file} had more than 80% zeros in at least one band')\n",
      "/vol/data2/BioMassters_Challenge/bioMass/bioMass/dataloader2.py:114: UserWarning: 2cc2ebc4_S2_07.tif had more than 80% zeros in at least one band\n",
      "  warnings.warn(f'{problematic_file} had more than 80% zeros in at least one band')\n",
      "/vol/data2/BioMassters_Challenge/bioMass/bioMass/dataloader2.py:114: UserWarning: 2cc2ebc4_S2_09.tif had more than 80% zeros in at least one band\n",
      "  warnings.warn(f'{problematic_file} had more than 80% zeros in at least one band')\n",
      "/vol/data2/BioMassters_Challenge/bioMass/bioMass/dataloader2.py:114: UserWarning: 2cc2ebc4_S2_10.tif had more than 80% zeros in at least one band\n",
      "  warnings.warn(f'{problematic_file} had more than 80% zeros in at least one band')\n",
      "/vol/data2/BioMassters_Challenge/bioMass/bioMass/dataloader2.py:114: UserWarning: 2cc2ebc4_S2_11.tif had more than 80% zeros in at least one band\n",
      "  warnings.warn(f'{problematic_file} had more than 80% zeros in at least one band')\n",
      "/vol/data2/BioMassters_Challenge/bioMass/bioMass/dataloader2.py:114: UserWarning: 9ea2aa1f_S2_10.tif had more than 80% zeros in at least one band\n",
      "  warnings.warn(f'{problematic_file} had more than 80% zeros in at least one band')\n",
      "/vol/data2/BioMassters_Challenge/bioMass/bioMass/dataloader2.py:114: UserWarning: 15c7876b_S2_02.tif had more than 80% zeros in at least one band\n",
      "  warnings.warn(f'{problematic_file} had more than 80% zeros in at least one band')\n",
      "/vol/data2/BioMassters_Challenge/bioMass/bioMass/dataloader2.py:114: UserWarning: 15c7876b_S2_07.tif had more than 80% zeros in at least one band\n",
      "  warnings.warn(f'{problematic_file} had more than 80% zeros in at least one band')\n",
      "/vol/data2/BioMassters_Challenge/bioMass/bioMass/dataloader2.py:114: UserWarning: 15c7876b_S2_10.tif had more than 80% zeros in at least one band\n",
      "  warnings.warn(f'{problematic_file} had more than 80% zeros in at least one band')\n",
      "/vol/data2/BioMassters_Challenge/bioMass/bioMass/dataloader2.py:114: UserWarning: 15c7876b_S2_11.tif had more than 80% zeros in at least one band\n",
      "  warnings.warn(f'{problematic_file} had more than 80% zeros in at least one band')\n"
     ]
    }
   ],
   "source": [
    "model = utae.UTAE(\n",
    "    input_dim=4, # Sentinel 1 has 4 channels, Sentinel 2 has 11\n",
    "    out_conv=[32, 1]\n",
    ")\n",
    "\n",
    "model = model.to('cuda')\n",
    "\n",
    "for batch in train_dataloader:\n",
    "    batch\n",
    "    break"
   ]
  },
  {
   "cell_type": "code",
   "execution_count": 6,
   "id": "1143dcbd-38f1-44cf-88c2-f688fa8423a3",
   "metadata": {},
   "outputs": [
    {
     "name": "stdout",
     "output_type": "stream",
     "text": [
      "torch.Size([12, 12, 4, 256, 256])\n",
      "torch.Size([12, 1, 256, 256])\n"
     ]
    }
   ],
   "source": [
    "# 31.3 GB of VRAM at batch size of 12\n",
    "image_s1, image_s2, target = batch['image_s1'], batch['image_s2'], batch['target']\n",
    "image_s1, image_s2, target = image_s1.to('cuda'), image_s2.to('cuda'), target.to('cuda')\n",
    "print(image_s1.shape)\n",
    "print(model(image_s1, batch_positions=bp.to('cuda')).shape)"
   ]
  },
  {
   "cell_type": "code",
   "execution_count": 5,
   "id": "94e2ed51-4512-4c5f-af0c-9a7ce7c1310e",
   "metadata": {},
   "outputs": [],
   "source": [
    "image_s1, image_s2, target = batch['image_s1'], batch['image_s2'], batch['target']"
   ]
  },
  {
   "cell_type": "code",
   "execution_count": 12,
   "id": "0fde2259-f7e4-4492-b508-93c4bf9e0f4b",
   "metadata": {},
   "outputs": [
    {
     "data": {
      "text/plain": [
       "torch.Size([12, 12, 15, 256, 256])"
      ]
     },
     "execution_count": 12,
     "metadata": {},
     "output_type": "execute_result"
    }
   ],
   "source": [
    "torch.concat([image_s1, image_s2], axis=2).shape"
   ]
  },
  {
   "cell_type": "code",
   "execution_count": 8,
   "id": "43451983-1b2d-47f9-8015-f7fa800a2911",
   "metadata": {},
   "outputs": [
    {
     "data": {
      "text/plain": [
       "(torch.Size([12, 12, 4, 256, 256]), torch.Size([12, 12, 11, 256, 256]))"
      ]
     },
     "execution_count": 8,
     "metadata": {},
     "output_type": "execute_result"
    }
   ],
   "source": [
    "image_s1.shape, image_s2.shape"
   ]
  },
  {
   "cell_type": "markdown",
   "id": "99a695b6-4c02-4b37-a2cb-cf4e999bbdaa",
   "metadata": {},
   "source": [
    "# Sanity Checks"
   ]
  },
  {
   "cell_type": "markdown",
   "id": "7b1ad0ae-d182-4e32-8171-004edb0a085b",
   "metadata": {},
   "source": [
    "## Input and target have same distribution"
   ]
  },
  {
   "cell_type": "code",
   "execution_count": 2,
   "id": "75845cfa-f7f2-4c7d-a160-86d9fc806da3",
   "metadata": {},
   "outputs": [
    {
     "data": {
      "text/plain": [
       "3476"
      ]
     },
     "execution_count": 2,
     "metadata": {},
     "output_type": "execute_result"
    }
   ],
   "source": [
    "dm = SentinelDataModule(is_train=True, max_chips=None, loader_device='cpu', num_workers=24, split_proportions=[0.8, 0.2, 0],\n",
    "                        batch_size=2)\n",
    "dm.setup('fit')\n",
    "\n",
    "bp = torch.Tensor(range(12)).repeat(dm.batch_size).reshape(dm.batch_size, 12)\n",
    "\n",
    "train_dataloader = dm.train_dataloader()\n",
    "len(train_dataloader)"
   ]
  },
  {
   "cell_type": "code",
   "execution_count": 3,
   "id": "58d33240-a069-4313-9f4f-a65189782166",
   "metadata": {
    "tags": []
   },
   "outputs": [
    {
     "data": {
      "image/png": "[encoded data removed]",
      "text/plain": [
       "<Figure size 640x480 with 1 Axes>"
      ]
     },
     "metadata": {},
     "output_type": "display_data"
    }
   ],
   "source": [
    "for sample in train_dataloader:\n",
    "    image_s2, image_s1, target = sample['image_s2'].numpy(), sample['image_s1'].numpy(), sample['target'].numpy()\n",
    "    plt.hist(image_s2.flatten(), color='r', alpha=0.9)\n",
    "    plt.hist(image_s1.flatten(), color='g', alpha=0.9)\n",
    "    plt.hist(target.flatten(), color='b', alpha=0.9)\n",
    "    plt.show()\n",
    "    break"
   ]
  },
  {
   "cell_type": "code",
   "execution_count": 4,
   "id": "53fab60d-f533-47e9-8c54-2cc5fa07561f",
   "metadata": {},
   "outputs": [],
   "source": [
    "model = utae.UTAE(\n",
    "    input_dim=11, # Sentinel 1 has 4 channels, Sentinel 2 has 11\n",
    "    out_conv=[32, 1]\n",
    ")\n",
    "\n",
    "model = model.to('cuda')"
   ]
  },
  {
   "cell_type": "code",
   "execution_count": 6,
   "id": "f33dca13-de34-46ab-9d38-bbf0f4946acc",
   "metadata": {},
   "outputs": [
    {
     "data": {
      "text/plain": [
       "(array([7.5136e+05, 2.3965e+04, 7.2500e+03, 2.5800e+03, 8.4600e+02,\n",
       "        2.8400e+02, 9.6000e+01, 3.8000e+01, 9.0000e+00, 4.0000e+00]),\n",
       " array([ 0.        ,  1.6758343 ,  3.3516686 ,  5.02750301,  6.70333719,\n",
       "         8.37917137, 10.05500603, 11.73083973, 13.40667439, 15.08250809,\n",
       "        16.75834274]),\n",
       " <BarContainer object of 10 artists>)"
      ]
     },
     "execution_count": 6,
     "metadata": {},
     "output_type": "execute_result"
    },
    {
     "data": {
      "image/png": "[encoded data removed]",
      "text/plain": [
       "<Figure size 640x480 with 1 Axes>"
      ]
     },
     "metadata": {},
     "output_type": "display_data"
    }
   ],
   "source": [
    "x = torch.Tensor(image_s2).to('cuda')\n",
    "with torch.no_grad():\n",
    "    x = model(x, batch_positions=bp.to('cuda')).cpu().detach().numpy().flatten()\n",
    "plt.hist(x)"
   ]
  },
  {
   "cell_type": "markdown",
   "id": "e971d592-2310-471f-a598-926c70d45981",
   "metadata": {},
   "source": [
    "## Trick 3: Detecting Anomalies in the Forward Pass\n",
    "\n",
    "https://www.pytorchlightning.ai/blog/3-simple-tricks-that-will-change-the-way-you-debug-pytorch\n",
    "\n",
    "The idea is simple: If we change the n-th input sample, it should only have an effect on the n-th output. If other outputs i ≠ n also change, the model mixes data and that’s not good! A reliable way to implement this test is to compute the gradient on the n-th output with respect to all inputs. The gradient must be zero for all i ≠ n (red in the animation above) and nonzero for i = n (green in the animation above). If these conditions are met, the model passes the test. Below is the implementation for n = 3:"
   ]
  },
  {
   "cell_type": "code",
   "execution_count": 16,
   "id": "9ceb906c-b9e8-460e-a25c-9e9c3eca97f2",
   "metadata": {},
   "outputs": [],
   "source": [
    "model = model.to('cuda')"
   ]
  },
  {
   "cell_type": "code",
   "execution_count": 17,
   "id": "81d310ca-c32f-4171-9be1-4e460149ea70",
   "metadata": {},
   "outputs": [
    {
     "ename": "TypeError",
     "evalue": "'NoneType' object is not subscriptable",
     "output_type": "error",
     "traceback": [
      "\u001b[0;31m---------------------------------------------------------------------------\u001b[0m",
      "\u001b[0;31mTypeError\u001b[0m                                 Traceback (most recent call last)",
      "Cell \u001b[0;32mIn[17], line 16\u001b[0m\n\u001b[1;32m     13\u001b[0m \u001b[38;5;66;03m# 4. check that gradient on samples i != n are zero!\u001b[39;00m\n\u001b[1;32m     14\u001b[0m \u001b[38;5;66;03m# sanity check: if this does not return 0, you have a bug!\u001b[39;00m\n\u001b[1;32m     15\u001b[0m i \u001b[38;5;241m=\u001b[39m \u001b[38;5;241m0\u001b[39m\n\u001b[0;32m---> 16\u001b[0m \u001b[43mexample_input\u001b[49m\u001b[38;5;241;43m.\u001b[39;49m\u001b[43mgrad\u001b[49m\u001b[43m[\u001b[49m\u001b[43mi\u001b[49m\u001b[43m]\u001b[49m\u001b[38;5;241m.\u001b[39mabs()\u001b[38;5;241m.\u001b[39msum()\u001b[38;5;241m.\u001b[39mitem()\n",
      "\u001b[0;31mTypeError\u001b[0m: 'NoneType' object is not subscriptable"
     ]
    }
   ],
   "source": [
    "# examine the gradient of the n-th minibatch sample w.r.t. all inputs\n",
    "n = 0  \n",
    "\n",
    "# 1. require gradient on input batch\n",
    "example_input = torch.rand_like(torch.Tensor(image_s2), requires_grad=True).to('cuda')\n",
    "\n",
    "# 2. run batch through model\n",
    "output = model(example_input, batch_positions=bp.to('cuda'))\n",
    "\n",
    "# 3. compute a dummy loss on n-th output sample and back-propagate\n",
    "output[n].abs().sum().backward()\n",
    "\n",
    "# 4. check that gradient on samples i != n are zero!\n",
    "# sanity check: if this does not return 0, you have a bug!\n",
    "i = 0\n",
    "example_input.grad[i].abs().sum().item()"
   ]
  },
  {
   "cell_type": "code",
   "execution_count": 21,
   "id": "15306d98-f519-4503-a0a3-a833c26276eb",
   "metadata": {},
   "outputs": [],
   "source": [
    "example_input.grad"
   ]
  },
  {
   "cell_type": "code",
   "execution_count": 38,
   "id": "1c99981c-b3b5-48e6-a416-653a16c3acd0",
   "metadata": {},
   "outputs": [],
   "source": [
    "# examine the gradient of the n-th minibatch sample w.r.t. all inputs\n",
    "n = 0\n",
    "\n",
    "# 1. require gradient on input batch\n",
    "example_input = torch.rand_like(torch.Tensor(image_s2), requires_grad=True)\n",
    "\n",
    "# 2. run batch through model\n",
    "output = model(example_input)\n",
    "\n",
    "# 3. compute a dummy loss on n-th output sample and back-propagate\n",
    "output[n].abs().sum().backward()\n",
    "\n",
    "# 4. check that gradient on samples i != n are zero!\n",
    "# sanity check: if this does not return 0, you have a bug!\n",
    "zero_grad_inds = list(range(example_input.size(0)))     \n",
    "zero_grad_inds.pop(n)\n",
    "\n",
    "\n",
    "if example_input.grad[zero_grad_inds].abs().sum().item() > 0:\n",
    "    raise RuntimeError(\"Your model mixes data across the batch dimension!\")"
   ]
  },
  {
   "cell_type": "code",
   "execution_count": null,
   "id": "de8d8aad-857d-41a5-a6d5-b8604c45b50a",
   "metadata": {},
   "outputs": [],
   "source": []
  }
 ],
 "metadata": {
  "kernelspec": {
   "display_name": "Python 3 (ipykernel)",
   "language": "python",
   "name": "python3"
  },
  "language_info": {
   "codemirror_mode": {
    "name": "ipython",
    "version": 3
   },
   "file_extension": ".py",
   "mimetype": "text/x-python",
   "name": "python",
   "nbconvert_exporter": "python",
   "pygments_lexer": "ipython3",
   "version": "3.9.15"
  }
 },
 "nbformat": 4,
 "nbformat_minor": 5
}
