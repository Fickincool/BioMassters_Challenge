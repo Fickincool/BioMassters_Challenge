{
 "cells": [
  {
   "cell_type": "code",
   "execution_count": 9,
   "id": "e50943bd-aab9-405f-a5a4-ea4a73f03882",
   "metadata": {},
   "outputs": [
    {
     "name": "stdout",
     "output_type": "stream",
     "text": [
      "The autoreload extension is already loaded. To reload it, use:\n",
      "  %reload_ext autoreload\n"
     ]
    }
   ],
   "source": [
    "import bioMass.dataViz as dv\n",
    "from bioMass.dataloader import SentinelDataset, SentinelDataModule\n",
    "from bioMass.moran_Dataloader import MoranSentinelDataset\n",
    "from bioMass.model import Unet, DoubleStreamUnet\n",
    "from pytorch_lightning import Trainer\n",
    "import matplotlib.pyplot as plt\n",
    "import torch\n",
    "from torch.utils.data import DataLoader, random_split\n",
    "from tqdm.notebook import tqdm\n",
    "from torch import nn\n",
    "import os\n",
    "import numpy as np\n",
    "import pandas as pd\n",
    "from glob import glob\n",
    "import yaml\n",
    "\n",
    "from pytorch_lightning import loggers as pl_loggers\n",
    "\n",
    "%config Completer.use_jedi = False\n",
    "%matplotlib inline\n",
    "%load_ext autoreload\n",
    "%autoreload 2"
   ]
  },
  {
   "cell_type": "code",
   "execution_count": 10,
   "id": "769a4da6-2142-4781-b65d-1c880a24ed0b",
   "metadata": {},
   "outputs": [
    {
     "name": "stdout",
     "output_type": "stream",
     "text": [
      "training device: cuda\n",
      "loader_device: cpu\n"
     ]
    }
   ],
   "source": [
    "# MPS Docs\n",
    "# https://pytorch.org/docs/master/notes/mps.html\n",
    "\n",
    "if torch.backends.mps.is_available(): # Mac M1/M2\n",
    "    device = torch.device('mps')\n",
    "elif torch.cuda.is_available():\n",
    "    device = torch.device('cuda')\n",
    "else:\n",
    "    device = torch.device('cpu')\n",
    "\n",
    "loader_device = torch.device('cpu')  # found that using cpu for data loading was faster than gpu (for my device)\n",
    "print(f'training device: {device}')\n",
    "print(f'loader_device: {loader_device}')\n",
    "\n",
    "dir_tiles = '/home/ubuntu/Thesis/backup_data/bioMass_data/train_features/'\n",
    "dir_target = '/home/ubuntu/Thesis/backup_data/bioMass_data/train_agbm/'\n",
    "dir_saved_models = './trained_models'"
   ]
  },
  {
   "cell_type": "code",
   "execution_count": 11,
   "id": "81adf0d8-1a50-49fe-b2ce-6e97831506f3",
   "metadata": {},
   "outputs": [],
   "source": [
    "# this file specifies which month of data to use for training for each chipid \n",
    "# See the preprocesing notebook for an example of producing this  \n",
    "tile_file = '/home/ubuntu/Thesis/backup_data/bioMass_data/TILE_LIST_BEST_MONTHS.csv'\n",
    "\n",
    "max_chips = None # number of chips to use from training set, None = Use All  \n",
    "\n",
    "# A custom dataloader for Sentinel data \n",
    "dataset = MoranSentinelDataset(tile_file=tile_file, \n",
    "                             dir_tiles=dir_tiles, \n",
    "                             dir_target=dir_target,\n",
    "                             max_chips=max_chips,\n",
    "                             transform=None,\n",
    "                             device=loader_device\n",
    "                            )"
   ]
  },
  {
   "cell_type": "code",
   "execution_count": 12,
   "id": "7d2c6c63-cf32-461b-aef4-e1a7a2e45214",
   "metadata": {},
   "outputs": [
    {
     "data": {
      "text/plain": [
       "torch.Size([1, 256, 256])"
      ]
     },
     "execution_count": 12,
     "metadata": {},
     "output_type": "execute_result"
    }
   ],
   "source": [
    "dataset[0]['label'].shape"
   ]
  },
  {
   "cell_type": "code",
   "execution_count": 13,
   "id": "ab66271c-0445-4c42-885f-a9f27a56eddb",
   "metadata": {},
   "outputs": [
    {
     "data": {
      "text/plain": [
       "torch.Size([11, 256, 256])"
      ]
     },
     "execution_count": 13,
     "metadata": {},
     "output_type": "execute_result"
    }
   ],
   "source": [
    "dataset[0]['image_s2'].shape"
   ]
  },
  {
   "cell_type": "code",
   "execution_count": null,
   "id": "aa9371fe-a00f-4642-8e60-24646830738a",
   "metadata": {},
   "outputs": [],
   "source": []
  }
 ],
 "metadata": {
  "kernelspec": {
   "display_name": "Python 3 (ipykernel)",
   "language": "python",
   "name": "python3"
  },
  "language_info": {
   "codemirror_mode": {
    "name": "ipython",
    "version": 3
   },
   "file_extension": ".py",
   "mimetype": "text/x-python",
   "name": "python",
   "nbconvert_exporter": "python",
   "pygments_lexer": "ipython3",
   "version": "3.9.15"
  }
 },
 "nbformat": 4,
 "nbformat_minor": 5
}
