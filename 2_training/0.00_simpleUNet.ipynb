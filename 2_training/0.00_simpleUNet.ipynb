{
 "cells": [
  {
   "cell_type": "code",
   "execution_count": 1,
   "id": "e1c63156-d3d6-4855-84a9-bc7e1c4eb6fd",
   "metadata": {},
   "outputs": [],
   "source": [
    "import bioMass.dataViz as dv\n",
    "from bioMass.dataloader import SentinelDataset\n",
    "import matplotlib.pyplot as plt\n",
    "import torch\n",
    "from torch.utils.data import DataLoader, random_split\n",
    "from tqdm.notebook import tqdm\n",
    "from torch import nn\n",
    "\n",
    "%config Completer.use_jedi = False\n",
    "%matplotlib inline\n",
    "%load_ext autoreload\n",
    "%autoreload 2"
   ]
  },
  {
   "cell_type": "code",
   "execution_count": 2,
   "id": "49a17c85-b523-424a-8899-873cdab7c37c",
   "metadata": {},
   "outputs": [
    {
     "name": "stdout",
     "output_type": "stream",
     "text": [
      "training device: cuda\n",
      "loader_device: cpu\n"
     ]
    }
   ],
   "source": [
    "# https://pytorch.org/docs/master/notes/mps.html\n",
    "\n",
    "if torch.backends.mps.is_available(): # Mac M1/M2\n",
    "    device = torch.device('mps')\n",
    "elif torch.cuda.is_available():\n",
    "    device = torch.device('cuda')\n",
    "else:\n",
    "    device = torch.device('cpu')\n",
    "\n",
    "loader_device = torch.device('cpu')  # found that using cpu for data loading was faster than gpu (for my device)\n",
    "print(f'training device: {device}')\n",
    "print(f'loader_device: {loader_device}')"
   ]
  },
  {
   "cell_type": "code",
   "execution_count": 3,
   "id": "6b5af6a0-0477-4369-a61d-5a56761f5198",
   "metadata": {},
   "outputs": [],
   "source": [
    "dir_tiles = '/home/ubuntu/Thesis/backup_data/bioMass_data/train_PCA_warm/'\n",
    "dir_target = '/home/ubuntu/Thesis/backup_data/bioMass_data/train_agbm/'\n",
    "dir_saved_models = '/home/ubuntu/Thesis/backup_data/bioMass_data/trained_models/'"
   ]
  },
  {
   "cell_type": "code",
   "execution_count": 14,
   "id": "4296e29a-af94-4da1-8588-ca1ff2623d6f",
   "metadata": {},
   "outputs": [],
   "source": [
    "max_chips = 100 # number of chips to use from training set, None = Use All  \n",
    "\n",
    "# A custom dataloader for Sentinel data \n",
    "dataset = SentinelDataset(dir_tiles=dir_tiles, dir_target=dir_target,\n",
    "                          max_chips=max_chips, transform=None,\n",
    "                          device=loader_device\n",
    "                         )"
   ]
  },
  {
   "cell_type": "code",
   "execution_count": 15,
   "id": "88a564ab-8ef3-4af6-a711-4e0d5d33db18",
   "metadata": {},
   "outputs": [
    {
     "name": "stdout",
     "output_type": "stream",
     "text": [
      "N training samples: 70\n"
     ]
    }
   ],
   "source": [
    "torch.manual_seed(0)\n",
    "\n",
    "train_frac = 0.7\n",
    "train_dataset, val_dataset, test_dataset = random_split(dataset, [train_frac, 1-train_frac-0.1, 0.1])\n",
    "print(f'N training samples: {len(train_dataset)}')"
   ]
  },
  {
   "cell_type": "code",
   "execution_count": 16,
   "id": "c579fc83-89f1-4af6-a886-20dac66f5d83",
   "metadata": {},
   "outputs": [],
   "source": [
    "batch_size = 32  # Note: training speed is sensitive to memory usage\n",
    "                 # set this as high as you can without significantly slowing down training time \n",
    "num_workers = 1\n",
    "train_dataloader = DataLoader(train_dataset,\n",
    "                              batch_size=batch_size,\n",
    "                              shuffle=True,\n",
    "                              num_workers=num_workers,\n",
    "                              pin_memory=True\n",
    "                             )\n",
    "val_dataloader = DataLoader(val_dataset,\n",
    "                            batch_size=batch_size,\n",
    "                            shuffle=False,\n",
    "                            num_workers=num_workers,\n",
    "                            pin_memory=True\n",
    "                           )\n",
    "\n",
    "test_dataloader = DataLoader(test_dataset,\n",
    "                            batch_size=batch_size,\n",
    "                            shuffle=False,\n",
    "                            num_workers=num_workers,\n",
    "                            pin_memory=True\n",
    "                           )"
   ]
  },
  {
   "cell_type": "code",
   "execution_count": 17,
   "id": "2575bb09-daee-47df-bfd3-1554303fca4b",
   "metadata": {},
   "outputs": [],
   "source": [
    "for sample in train_dataloader:\n",
    "    image, target = sample['image_s2'].numpy(), sample['label'].numpy()\n",
    "    break"
   ]
  },
  {
   "cell_type": "code",
   "execution_count": 18,
   "id": "214b5a85-c6ea-407d-bd4e-ca538d4820de",
   "metadata": {},
   "outputs": [
    {
     "data": {
      "text/plain": [
       "(array([1.135951e+06, 4.889710e+05, 2.658830e+05, 1.205720e+05,\n",
       "        5.406800e+04, 2.223400e+04, 6.966000e+03, 1.565000e+03,\n",
       "        3.000000e+02, 6.420000e+02]),\n",
       " array([  0.        ,  58.38100052, 116.76200104, 175.14300537,\n",
       "        233.52400208, 291.90499878, 350.28601074, 408.66699219,\n",
       "        467.04800415, 525.42901611, 583.80999756]),\n",
       " <BarContainer object of 10 artists>)"
      ]
     },
     "execution_count": 18,
     "metadata": {},
     "output_type": "execute_result"
    },
    {
     "data": {
      "image/png": "[encoded data removed]",
      "text/plain": [
       "<Figure size 640x480 with 1 Axes>"
      ]
     },
     "metadata": {},
     "output_type": "display_data"
    }
   ],
   "source": [
    "plt.hist(image.flatten())\n",
    "plt.hist(target.flatten())"
   ]
  },
  {
   "cell_type": "code",
   "execution_count": 8,
   "id": "aacbf3d2-bbad-41a9-88c7-c6cb3c28fdb4",
   "metadata": {},
   "outputs": [],
   "source": [
    "from bioMass.model import S2_Unet_pytorch, S2_Unet"
   ]
  },
  {
   "cell_type": "code",
   "execution_count": 9,
   "id": "4d0b539d-28ae-48c2-9d8a-d6d3de541f20",
   "metadata": {},
   "outputs": [
    {
     "data": {
      "text/plain": [
       "torch.Size([32, 11, 256, 256])"
      ]
     },
     "execution_count": 9,
     "metadata": {},
     "output_type": "execute_result"
    }
   ],
   "source": [
    "sample['image_s2'].shape"
   ]
  },
  {
   "cell_type": "code",
   "execution_count": 10,
   "id": "5cfc8bd7-ecc1-47ec-9607-7b838ad306ff",
   "metadata": {},
   "outputs": [
    {
     "data": {
      "text/plain": [
       "torch.Size([32, 1, 256, 256])"
      ]
     },
     "execution_count": 10,
     "metadata": {},
     "output_type": "execute_result"
    }
   ],
   "source": [
    "model = S2_Unet_pytorch(64, 11, 0.5)\n",
    "\n",
    "out = model(sample['image_s2']).shape\n",
    "out"
   ]
  },
  {
   "cell_type": "code",
   "execution_count": 11,
   "id": "90bbffc5-d424-4c20-8a70-8e52be3a51dd",
   "metadata": {},
   "outputs": [
    {
     "ename": "TypeError",
     "evalue": "__init__() missing 2 required positional arguments: 'in_channels' and 'dropout_p'",
     "output_type": "error",
     "traceback": [
      "\u001b[0;31m---------------------------------------------------------------------------\u001b[0m",
      "\u001b[0;31mTypeError\u001b[0m                                 Traceback (most recent call last)",
      "Cell \u001b[0;32mIn[11], line 1\u001b[0m\n\u001b[0;32m----> 1\u001b[0m model \u001b[38;5;241m=\u001b[39m \u001b[43mS2_Unet\u001b[49m\u001b[43m(\u001b[49m\u001b[38;5;241;43m64\u001b[39;49m\u001b[43m,\u001b[49m\u001b[43m \u001b[49m\u001b[38;5;241;43m11\u001b[39;49m\u001b[43m,\u001b[49m\u001b[43m \u001b[49m\u001b[38;5;241;43m0.5\u001b[39;49m\u001b[43m)\u001b[49m\n\u001b[1;32m      3\u001b[0m out \u001b[38;5;241m=\u001b[39m model(sample[\u001b[38;5;124m'\u001b[39m\u001b[38;5;124mimage_s2\u001b[39m\u001b[38;5;124m'\u001b[39m])\u001b[38;5;241m.\u001b[39mshape\n\u001b[1;32m      4\u001b[0m out\n",
      "\u001b[0;31mTypeError\u001b[0m: __init__() missing 2 required positional arguments: 'in_channels' and 'dropout_p'"
     ]
    }
   ],
   "source": [
    "model = S2_Unet(64, 11, 0.5)\n",
    "\n",
    "out = model(sample['image_s2']).shape\n",
    "out"
   ]
  },
  {
   "cell_type": "code",
   "execution_count": 23,
   "id": "dc806940-5999-451d-88fa-ec1f04626a24",
   "metadata": {},
   "outputs": [
    {
     "name": "stdout",
     "output_type": "stream",
     "text": [
      "# input channels: 11\n"
     ]
    }
   ],
   "source": [
    "import segmentation_models_pytorch as smp\n",
    "\n",
    "in_channels = train_dataset[0]['image_s2'].shape[0]\n",
    "print(f'# input channels: {in_channels}')\n",
    "\n",
    "model = smp.Unet(\n",
    "    encoder_name=\"resnet50\",\n",
    "    encoder_weights=None, # 'imagenet' weights don't seem to help so start clean \n",
    "    in_channels=in_channels,                 \n",
    "    classes=1,                     \n",
    ")"
   ]
  },
  {
   "cell_type": "code",
   "execution_count": 24,
   "id": "bad8b8d1-12ae-454b-bbd7-3ce78a577b97",
   "metadata": {},
   "outputs": [
    {
     "data": {
      "text/plain": [
       "torch.Size([32, 1, 256, 256])"
      ]
     },
     "execution_count": 24,
     "metadata": {},
     "output_type": "execute_result"
    }
   ],
   "source": [
    "model(sample['image_s2']).shape"
   ]
  }
 ],
 "metadata": {
  "kernelspec": {
   "display_name": "Python 3 (ipykernel)",
   "language": "python",
   "name": "python3"
  },
  "language_info": {
   "codemirror_mode": {
    "name": "ipython",
    "version": 3
   },
   "file_extension": ".py",
   "mimetype": "text/x-python",
   "name": "python",
   "nbconvert_exporter": "python",
   "pygments_lexer": "ipython3",
   "version": "3.9.15"
  }
 },
 "nbformat": 4,
 "nbformat_minor": 5
}
