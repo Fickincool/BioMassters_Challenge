{
 "cells": [
  {
   "cell_type": "markdown",
   "id": "3ee9dfb9-5791-42ef-a0ef-48f033ef66f4",
   "metadata": {},
   "source": [
    "# Task\n",
    "\n",
    "Select the months between May-September, perform PCA on these months to get the best linear combination of warm months and save the new tiff files."
   ]
  },
  {
   "cell_type": "code",
   "execution_count": 15,
   "id": "6726cdac-1d59-40bf-952b-4fde5aba862d",
   "metadata": {},
   "outputs": [
    {
     "name": "stdout",
     "output_type": "stream",
     "text": [
      "The autoreload extension is already loaded. To reload it, use:\n",
      "  %reload_ext autoreload\n"
     ]
    }
   ],
   "source": [
    "import pandas as pd\n",
    "import matplotlib.pyplot as plt\n",
    "import numpy as np\n",
    "import seaborn as sns\n",
    "from tqdm import tqdm\n",
    "import os\n",
    "import torch\n",
    "from sklearn.decomposition import PCA\n",
    "import logging\n",
    "\n",
    "from joblib import Parallel, delayed\n",
    "\n",
    "from skimage import io\n",
    "\n",
    "from bioMass.dataloader import train_df, read_yearly_tiffs\n",
    "\n",
    "# logfile = '/home/ubuntu/Thesis/backup_data/bioMass_data/train_PCA_warm/log_test.txt'\n",
    "\n",
    "# logging.basicConfig(filename=logfile, level=logging.DEBUG, format=\"%(asctime)s %(message)s\", filemode=\"w\")\n",
    "\n",
    "\n",
    "def plot_months(data, months_list, band_no, cmap='viridis'):\n",
    "    \n",
    "    fig, ax = plt.subplots(3, 4, sharex=True, sharey=True, figsize=(10, 8))\n",
    "    list(map(lambda axi: axi.set_axis_off(), ax.ravel()))\n",
    "    plt.tight_layout()\n",
    "\n",
    "\n",
    "    for month, month_data in zip(months_list, data):\n",
    "        col = month%4\n",
    "        row = month//4\n",
    "        ax[row][col].imshow(month_data[band_no], cmap=cmap)\n",
    "        \n",
    "    plt.show()\n",
    "    \n",
    "    return\n",
    "\n",
    "%config Completer.use_jedi = False\n",
    "%load_ext autoreload\n",
    "%autoreload 2"
   ]
  },
  {
   "cell_type": "code",
   "execution_count": 16,
   "id": "6e307b5c-e5bb-434d-95ea-0d435d7809e6",
   "metadata": {},
   "outputs": [],
   "source": [
    "# def get_warm_data(data, months_list):\n",
    "#     warm_months = [0, 8, 9, 10, 11] # Sep, May, June, July, August\n",
    "    \n",
    "#     data_warm = []\n",
    "#     months_list_warm = []\n",
    "#     for m, d in zip(months_list, data):\n",
    "#         if m in warm_months:\n",
    "#             # compute number of zeros and only append if more than 60%\n",
    "#             pct_zeros = (d==0).sum()/len(d.flatten())\n",
    "#             if pct_zeros>0.6:\n",
    "#                 data_warm.append(d)\n",
    "#                 months_list_warm.append(m)\n",
    "            \n",
    "    \n",
    "#     return data_warm, months_list_warm  \n",
    "\n",
    "def get_warm_data(data, months_list):\n",
    "    warm_months = [0, 8, 9, 10, 11] # Sep, May, June, July, August\n",
    "    \n",
    "    data_warm = []\n",
    "    months_list_warm = []\n",
    "    for m, d in zip(months_list, data):\n",
    "        if m in warm_months:\n",
    "            data_warm.append(d)\n",
    "            months_list_warm.append(m)\n",
    "\n",
    "    return data_warm, months_list_warm \n",
    "\n",
    "def PCA_by_band(data, band_no, n_components=1):\n",
    "    single_band_year = np.array(data)[:, band_no, :, :]\n",
    "    single_band_year = single_band_year.reshape((len(single_band_year), 256*256)).T\n",
    "\n",
    "    pct_zeros = (single_band_year==0).sum()/len(single_band_year.flatten())\n",
    "    \n",
    "    if pct_zeros>0.5:\n",
    "        print('Band No. %i. Too many zeros!' %band_no)\n",
    "\n",
    "    if single_band_year.std()>0:\n",
    "        single_band_year = (single_band_year - single_band_year.mean()) / single_band_year.std()\n",
    "\n",
    "        pca = PCA(n_components=n_components)\n",
    "\n",
    "        reduced_single_band = pca.fit_transform(single_band_year).flatten().reshape(256, 256)\n",
    "\n",
    "        print('Band No. %i, Explained variance ratio: %.03f' %(band_no, pca.explained_variance_ratio_[0]))\n",
    "\n",
    "    else:\n",
    "        reduced_single_band = single_band_year.T[0].flatten().reshape(256, 256)\n",
    "        print('Variance was zero!!!')\n",
    "\n",
    "    return reduced_single_band   "
   ]
  },
  {
   "cell_type": "code",
   "execution_count": 17,
   "id": "8e1da380-b3e4-44b2-8757-84bd58e4493b",
   "metadata": {},
   "outputs": [],
   "source": [
    "def compute_PCA_data(chipid, satellite):\n",
    "    output_folder = '/home/ubuntu/Thesis/backup_data/bioMass_data/train_PCA_warm/'\n",
    "    output_filename = '%s_%s.tif' %(chipid, satellite)\n",
    "    output_filename = os.path.join(output_folder, output_filename)\n",
    "    \n",
    "    if satellite=='S1':\n",
    "        total_bands = 4\n",
    "    elif satellite=='S2':\n",
    "        total_bands = 11\n",
    "    \n",
    "    # if not os.path.exists(output_filename):\n",
    "    if True:\n",
    "\n",
    "        data, months_list, agbm = read_yearly_tiffs(chipid, satellite)  \n",
    "        data, months_list = get_warm_data(data, months_list)\n",
    "\n",
    "        print('Chip ID: %s, Satellite: %s, # Warm months: %i' %(chipid, satellite, len(months_list)))\n",
    "\n",
    "        if len(months_list)<2:\n",
    "            logging.info('Not enough data to compute PCA for this Chip ID!!!!')\n",
    "        \n",
    "        else:\n",
    "            reduced_data = [PCA_by_band(data, band_no) for band_no in range(0, total_bands)]\n",
    "\n",
    "            out_data = np.array(reduced_data)\n",
    "            # io.imsave('test.tif', out_data, plugin='tifffile')\n",
    "            # tifffile.imsave(output_filename, out_data)\n",
    "            return out_data\n",
    "    else:\n",
    "        pass\n",
    "    \n",
    "    return"
   ]
  },
  {
   "cell_type": "code",
   "execution_count": 18,
   "id": "51c97330-b4f2-41d0-a0a9-6368cb63a79a",
   "metadata": {},
   "outputs": [
    {
     "name": "stdout",
     "output_type": "stream",
     "text": [
      "Chip ID: 192eb2e0, Satellite: S2, # Warm months: 5\n",
      "Band No. 0. Too many zeros!\n",
      "Band No. 0, Explained variance ratio: 0.974\n",
      "Band No. 1. Too many zeros!\n",
      "Band No. 1, Explained variance ratio: 0.943\n",
      "Band No. 2. Too many zeros!\n",
      "Band No. 2, Explained variance ratio: 0.961\n",
      "Band No. 3. Too many zeros!\n",
      "Band No. 3, Explained variance ratio: 0.870\n",
      "Band No. 4. Too many zeros!\n",
      "Band No. 4, Explained variance ratio: 0.620\n",
      "Band No. 5. Too many zeros!\n",
      "Band No. 5, Explained variance ratio: 0.584\n",
      "Band No. 6. Too many zeros!\n",
      "Band No. 6, Explained variance ratio: 0.605\n",
      "Band No. 7. Too many zeros!\n",
      "Band No. 7, Explained variance ratio: 0.568\n",
      "Band No. 8. Too many zeros!\n",
      "Band No. 8, Explained variance ratio: 0.743\n",
      "Band No. 9. Too many zeros!\n",
      "Band No. 9, Explained variance ratio: 0.882\n",
      "Band No. 10. Too many zeros!\n",
      "Band No. 10, Explained variance ratio: 0.994\n",
      "Chip ID: 192eb2e0, Satellite: S1, # Warm months: 5\n",
      "Band No. 0, Explained variance ratio: 0.926\n",
      "Band No. 1, Explained variance ratio: 0.941\n",
      "Band No. 2, Explained variance ratio: 0.933\n",
      "Band No. 3, Explained variance ratio: 0.948\n"
     ]
    }
   ],
   "source": [
    "for satellite in ['S2', 'S1']: \n",
    "    for chipid in ['192eb2e0', 'd961dfda']:\n",
    "        compute_PCA_data(chipid=chipid, satellite=satellite)\n",
    "        break"
   ]
  },
  {
   "cell_type": "markdown",
   "id": "9bd151fe-2af3-44e5-80d3-03929d158a43",
   "metadata": {},
   "source": [
    "# Number of chips with zero values\n",
    "\n",
    "After running the script `get_PCA_tiffs.py`, many images have only zero values. I want to see which files and what is their proportion."
   ]
  },
  {
   "cell_type": "code",
   "execution_count": 5,
   "id": "3a9cd338-4796-4e1f-b373-61e5d0e06865",
   "metadata": {},
   "outputs": [],
   "source": [
    "from glob import glob\n",
    "from tifffile import tifffile\n",
    "\n",
    "pca_folder = '/home/ubuntu/Thesis/backup_data/bioMass_data/train_PCA_warm/'\n",
    "\n",
    "files = glob(pca_folder+'*')\n",
    "\n",
    "filenames = [x.replace(pca_folder, '') for x in files]\n",
    "\n",
    "S1_chips = [x for x in filenames if 'S1' in x]\n",
    "S2_chips = [x for x in filenames if 'S2' in x]"
   ]
  },
  {
   "cell_type": "code",
   "execution_count": 6,
   "id": "139460a7-d73f-475d-a1ed-88126427fd1a",
   "metadata": {},
   "outputs": [
    {
     "data": {
      "text/plain": [
       "8689"
      ]
     },
     "execution_count": 6,
     "metadata": {},
     "output_type": "execute_result"
    }
   ],
   "source": [
    "files = glob(pca_folder+'*S2*')\n",
    "len(files)"
   ]
  },
  {
   "cell_type": "code",
   "execution_count": 7,
   "id": "1557cf97-f07b-474c-9c0b-2c0f536b223c",
   "metadata": {},
   "outputs": [],
   "source": [
    "def get_zero_files(file):\n",
    "    \n",
    "    img = tifffile.imread(f)\n",
    "    img = np.float32(img)\n",
    "    \n",
    "    zeros_per_band = [(x==0).sum() for x in img]\n",
    "    zeros_per_band = np.array(zeros_per_band)/(256*256) # size of our images is 256x256\n",
    "    \n",
    "    if np.array(zeros_per_band).sum()!=0:\n",
    "        zero_files.append(f)\n",
    "        return f\n",
    "    \n",
    "    else:\n",
    "        return -1"
   ]
  },
  {
   "cell_type": "code",
   "execution_count": 113,
   "id": "b97be5ba-b1c8-4f66-a3cb-223b0bc39fe4",
   "metadata": {},
   "outputs": [
    {
     "name": "stderr",
     "output_type": "stream",
     "text": [
      "100%|███████████████████████████████████| 8689/8689 [28:05<00:00,  5.15it/s]\n"
     ]
    }
   ],
   "source": [
    "zero_files = []\n",
    "all_zero_freqs = []\n",
    "\n",
    "for f in tqdm(files):\n",
    "    img = tifffile.imread(f)\n",
    "    img = np.float32(img)\n",
    "    \n",
    "    zeros_per_band = [(x==0).sum() for x in img]\n",
    "    zeros_per_band = np.array(zeros_per_band)/(256*256) # size of our images is 256x256\n",
    "    all_zero_freqs.append(zeros_per_band)\n",
    "    \n",
    "    if np.array(zeros_per_band).sum()!=0:\n",
    "        zero_files.append(f)"
   ]
  },
  {
   "cell_type": "code",
   "execution_count": 114,
   "id": "c22379d1-7586-4d3a-b161-f3a020a20ca9",
   "metadata": {},
   "outputs": [
    {
     "data": {
      "text/plain": [
       "20"
      ]
     },
     "execution_count": 114,
     "metadata": {},
     "output_type": "execute_result"
    }
   ],
   "source": [
    "len(zero_files)"
   ]
  },
  {
   "cell_type": "code",
   "execution_count": 115,
   "id": "62a1f3c1-cec3-40f8-a34f-258373075bf4",
   "metadata": {},
   "outputs": [
    {
     "data": {
      "text/plain": [
       "['/home/ubuntu/Thesis/backup_data/bioMass_data/train_PCA_warm/d961dfda_S2.tif',\n",
       " '/home/ubuntu/Thesis/backup_data/bioMass_data/train_PCA_warm/6bb8df22_S2.tif',\n",
       " '/home/ubuntu/Thesis/backup_data/bioMass_data/train_PCA_warm/ed84be75_S2.tif',\n",
       " '/home/ubuntu/Thesis/backup_data/bioMass_data/train_PCA_warm/38c1ff72_S2.tif',\n",
       " '/home/ubuntu/Thesis/backup_data/bioMass_data/train_PCA_warm/e253ed6c_S2.tif',\n",
       " '/home/ubuntu/Thesis/backup_data/bioMass_data/train_PCA_warm/eb51fd4d_S2.tif',\n",
       " '/home/ubuntu/Thesis/backup_data/bioMass_data/train_PCA_warm/38b35fbf_S2.tif',\n",
       " '/home/ubuntu/Thesis/backup_data/bioMass_data/train_PCA_warm/175c2e5e_S2.tif',\n",
       " '/home/ubuntu/Thesis/backup_data/bioMass_data/train_PCA_warm/460a7643_S2.tif',\n",
       " '/home/ubuntu/Thesis/backup_data/bioMass_data/train_PCA_warm/61d6c948_S2.tif',\n",
       " '/home/ubuntu/Thesis/backup_data/bioMass_data/train_PCA_warm/fe36ba3f_S2.tif',\n",
       " '/home/ubuntu/Thesis/backup_data/bioMass_data/train_PCA_warm/fb99942c_S2.tif',\n",
       " '/home/ubuntu/Thesis/backup_data/bioMass_data/train_PCA_warm/96088489_S2.tif',\n",
       " '/home/ubuntu/Thesis/backup_data/bioMass_data/train_PCA_warm/3250b082_S2.tif',\n",
       " '/home/ubuntu/Thesis/backup_data/bioMass_data/train_PCA_warm/5210320c_S2.tif',\n",
       " '/home/ubuntu/Thesis/backup_data/bioMass_data/train_PCA_warm/4107c686_S2.tif',\n",
       " '/home/ubuntu/Thesis/backup_data/bioMass_data/train_PCA_warm/65abe066_S2.tif',\n",
       " '/home/ubuntu/Thesis/backup_data/bioMass_data/train_PCA_warm/b84feae9_S2.tif',\n",
       " '/home/ubuntu/Thesis/backup_data/bioMass_data/train_PCA_warm/f822769e_S2.tif',\n",
       " '/home/ubuntu/Thesis/backup_data/bioMass_data/train_PCA_warm/f952c1ed_S2.tif']"
      ]
     },
     "execution_count": 115,
     "metadata": {},
     "output_type": "execute_result"
    }
   ],
   "source": [
    "zero_files"
   ]
  },
  {
   "cell_type": "code",
   "execution_count": 120,
   "id": "0b4d5be6-b7bd-46e8-8e2b-fc3b2a18230c",
   "metadata": {},
   "outputs": [
    {
     "name": "stdout",
     "output_type": "stream",
     "text": [
      "[1. 1. 1. 1. 1. 1. 1. 1. 1. 1. 0.]\n",
      "[1. 1. 1. 1. 1. 1. 1. 1. 1. 1. 0.]\n",
      "[1. 1. 1. 1. 1. 1. 1. 1. 1. 1. 0.]\n",
      "[1. 1. 1. 1. 1. 1. 1. 1. 1. 1. 0.]\n",
      "[1. 1. 1. 1. 1. 1. 1. 1. 1. 1. 0.]\n",
      "[1. 1. 1. 1. 1. 1. 1. 1. 1. 1. 0.]\n",
      "[1. 1. 1. 1. 1. 1. 1. 1. 1. 1. 0.]\n",
      "[1. 1. 1. 1. 0. 0. 1. 1. 1. 1. 0.]\n",
      "[1. 1. 1. 1. 1. 1. 1. 1. 1. 1. 0.]\n",
      "[1. 1. 1. 1. 1. 1. 1. 1. 1. 1. 0.]\n",
      "[1. 1. 1. 1. 1. 1. 1. 1. 1. 1. 0.]\n",
      "[1. 1. 1. 1. 1. 1. 1. 1. 1. 1. 0.]\n",
      "[1. 1. 1. 1. 1. 1. 1. 1. 1. 1. 0.]\n",
      "[1. 1. 1. 1. 1. 1. 1. 1. 1. 1. 0.]\n",
      "[1. 1. 1. 1. 1. 1. 1. 1. 1. 1. 0.]\n",
      "[1. 1. 1. 1. 1. 1. 1. 1. 1. 1. 0.]\n",
      "[1. 1. 1. 1. 1. 1. 1. 1. 1. 1. 0.]\n",
      "[1. 1. 1. 1. 1. 1. 1. 1. 1. 1. 0.]\n",
      "[1. 1. 1. 1. 1. 1. 1. 1. 1. 1. 0.]\n",
      "[1. 1. 1. 1. 1. 1. 1. 1. 1. 1. 0.]\n"
     ]
    }
   ],
   "source": [
    "for f in zero_files:\n",
    "    img = tifffile.imread(f)\n",
    "    zeros_per_band = [(x==0).sum() for x in img]\n",
    "    zeros_per_band = np.array(zeros_per_band)/(256*256) \n",
    "    print(zeros_per_band)"
   ]
  },
  {
   "cell_type": "code",
   "execution_count": 28,
   "id": "e447280a-a389-4be1-be6f-2a92ecd1dddc",
   "metadata": {},
   "outputs": [
    {
     "name": "stdout",
     "output_type": "stream",
     "text": [
      "[1.52587891e-05 7.57705688e-01 1.52587891e-05 7.62924194e-01\n",
      " 1.52587891e-05 1.52587891e-05 7.57705688e-01 1.52587891e-05\n",
      " 1.52587891e-05 7.62924194e-01 1.52587891e-05]\n"
     ]
    }
   ],
   "source": [
    "# file = '/home/ubuntu/Thesis/backup_data/bioMass_data/train_PCA_warm/192eb2e0_S2.tif'\n",
    "file = '/home/ubuntu/Thesis/backup_data/bioMass_data/train_PCA_warm/1b7a76f8_S2.tif'\n",
    "\n",
    "img = tifffile.imread(file)\n",
    "zeros_per_band = [(x==x.min()).sum() for x in img]\n",
    "zeros_per_band = np.array(zeros_per_band)/(256*256) \n",
    "print(zeros_per_band)"
   ]
  },
  {
   "cell_type": "code",
   "execution_count": 32,
   "id": "f7082985-b5d4-4119-898d-d964ca1d1eba",
   "metadata": {},
   "outputs": [
    {
     "data": {
      "text/plain": [
       "<matplotlib.image.AxesImage at 0x7f153c32a9a0>"
      ]
     },
     "execution_count": 32,
     "metadata": {},
     "output_type": "execute_result"
    },
    {
     "data": {
      "image/png": "[encoded data removed]",
      "text/plain": [
       "<Figure size 640x480 with 1 Axes>"
      ]
     },
     "metadata": {},
     "output_type": "display_data"
    }
   ],
   "source": [
    "plt.imshow(img[2])"
   ]
  },
  {
   "cell_type": "code",
   "execution_count": 21,
   "id": "dde21199-3a5d-469b-a853-2c3217a3315f",
   "metadata": {},
   "outputs": [
    {
     "data": {
      "text/plain": [
       "3.5386340175903728"
      ]
     },
     "execution_count": 21,
     "metadata": {},
     "output_type": "execute_result"
    }
   ],
   "source": [
    "img[0].var()"
   ]
  },
  {
   "cell_type": "code",
   "execution_count": 33,
   "id": "9c9b5cf8-ffcc-4ed9-836f-aebef474a19f",
   "metadata": {},
   "outputs": [
    {
     "data": {
      "text/plain": [
       "(array([5.8307e+04, 2.5200e+03, 1.0100e+03, 9.0900e+02, 1.1460e+03,\n",
       "        8.7100e+02, 3.8200e+02, 2.1200e+02, 1.2900e+02, 5.0000e+01]),\n",
       " array([-0.60592953,  0.88771424,  2.38135801,  3.87500178,  5.36864555,\n",
       "         6.86228932,  8.35593309,  9.84957687, 11.34322064, 12.83686441,\n",
       "        14.33050818]),\n",
       " <BarContainer object of 10 artists>)"
      ]
     },
     "execution_count": 33,
     "metadata": {},
     "output_type": "execute_result"
    },
    {
     "data": {
      "image/png": "[encoded data removed]",
      "text/plain": [
       "<Figure size 640x480 with 1 Axes>"
      ]
     },
     "metadata": {},
     "output_type": "display_data"
    }
   ],
   "source": [
    "plt.hist(img[2].flatten())"
   ]
  },
  {
   "cell_type": "code",
   "execution_count": null,
   "id": "df60c2f3-f639-4cd6-aee5-16dc61d4025e",
   "metadata": {},
   "outputs": [],
   "source": []
  }
 ],
 "metadata": {
  "kernelspec": {
   "display_name": "Python 3 (ipykernel)",
   "language": "python",
   "name": "python3"
  },
  "language_info": {
   "codemirror_mode": {
    "name": "ipython",
    "version": 3
   },
   "file_extension": ".py",
   "mimetype": "text/x-python",
   "name": "python",
   "nbconvert_exporter": "python",
   "pygments_lexer": "ipython3",
   "version": "3.9.15"
  }
 },
 "nbformat": 4,
 "nbformat_minor": 5
}
