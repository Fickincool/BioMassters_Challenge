{
 "cells": [
  {
   "cell_type": "code",
   "execution_count": 1,
   "id": "14c69f4b-6b90-48ca-a067-e8b0f61306af",
   "metadata": {},
   "outputs": [],
   "source": [
    "import bioMass.dataViz as dv\n",
    "from bioMass.dataloader import SentinelDataset, SentinelDataModule\n",
    "from bioMass.model import Unet, DoubleStreamUnet\n",
    "from pytorch_lightning import Trainer\n",
    "import matplotlib.pyplot as plt\n",
    "import torch\n",
    "from torch.utils.data import DataLoader, random_split\n",
    "from tqdm.notebook import tqdm\n",
    "from torch import nn\n",
    "import os\n",
    "import numpy as np\n",
    "import pandas as pd\n",
    "\n",
    "from pytorch_lightning import loggers as pl_loggers\n",
    "\n",
    "%config Completer.use_jedi = False\n",
    "%matplotlib inline\n",
    "%load_ext autoreload\n",
    "%autoreload 2"
   ]
  },
  {
   "cell_type": "code",
   "execution_count": 6,
   "id": "9308f67f-b791-4c62-b73f-0db92f73bf15",
   "metadata": {},
   "outputs": [],
   "source": [
    "def load_UNetModel(logdir, DataParallel=False):\n",
    "    \"Returns loaded model from checkpoint and hyperparameters\"\n",
    "    if not logdir.endswith(\"/\"):\n",
    "        logdir = logdir + \"/\"\n",
    "\n",
    "    with open(glob(logdir + \"hparams.yaml\")[0]) as f:\n",
    "        hparams = yaml.load(f, Loader=yaml.BaseLoader)\n",
    "\n",
    "\n",
    "    p = float(hparams[\"dropout_p\"])  # dropout (zeroing) probability\n",
    "    in_channels = int(hparams[\"in_channels\"])\n",
    "    init_n_features = int(hparams[\"init_n_features\"])\n",
    "\n",
    "    model = Unet(None, 0, init_n_features, in_channels, p)\n",
    "\n",
    "    ckpt_file = glob(logdir + \"checkpoints/*.ckpt\")\n",
    "    assert len(glob(logdir + \"checkpoints/*.ckpt\")) == 1\n",
    "    ckpt_file = ckpt_file[0]\n",
    "\n",
    "    model = model.load_from_checkpoint(ckpt_file).cuda()\n",
    "    if DataParallel:\n",
    "        model = torch.nn.DataParallel(model)\n",
    "\n",
    "    return model, hparams"
   ]
  },
  {
   "cell_type": "code",
   "execution_count": 2,
   "id": "4435c4b2-412d-404f-bd0e-8a082892397e",
   "metadata": {},
   "outputs": [],
   "source": [
    "dm = SentinelDataModule(max_chips=100, loader_device='cpu', num_workers=1)\n",
    "dm.setup('fit')"
   ]
  },
  {
   "cell_type": "code",
   "execution_count": 4,
   "id": "9456b1c6-393a-4404-bfb7-5c62dd42b0d5",
   "metadata": {},
   "outputs": [
    {
     "name": "stderr",
     "output_type": "stream",
     "text": [
      "/home/ubuntu/Thesis/miniconda3/envs/bioMass/lib/python3.9/site-packages/pytorch_lightning/utilities/parsing.py:262: UserWarning: Attribute 'loss_fn' is an instance of `nn.Module` and is already saved during checkpointing. It is recommended to ignore them using `self.save_hyperparameters(ignore=['loss_fn'])`.\n",
      "  rank_zero_warn(\n"
     ]
    }
   ],
   "source": [
    "loss_module = nn.MSELoss(reduction='mean')\n",
    "model = DoubleStreamUnet(loss_fn=loss_module, lr=1e-4, dropout_p=0.5)"
   ]
  },
  {
   "cell_type": "code",
   "execution_count": 5,
   "id": "1661b871-e6da-40de-9f9c-f212b9cb05ca",
   "metadata": {},
   "outputs": [],
   "source": [
    "test_dataloader = dm.test_dataloader()"
   ]
  },
  {
   "cell_type": "code",
   "execution_count": 5,
   "id": "4d270b36-67a0-4694-9ceb-910e108d018a",
   "metadata": {},
   "outputs": [],
   "source": [
    "for sample in train_dataloader:\n",
    "    sample\n",
    "    break"
   ]
  },
  {
   "cell_type": "code",
   "execution_count": 6,
   "id": "be4df594-73f4-4b6d-8ccc-c969b2665ffc",
   "metadata": {},
   "outputs": [
    {
     "data": {
      "text/plain": [
       "torch.Size([32, 1, 256, 256])"
      ]
     },
     "execution_count": 6,
     "metadata": {},
     "output_type": "execute_result"
    }
   ],
   "source": [
    "model(sample['image_s1'], sample['image_s2']).shape"
   ]
  }
 ],
 "metadata": {
  "kernelspec": {
   "display_name": "Python 3 (ipykernel)",
   "language": "python",
   "name": "python3"
  },
  "language_info": {
   "codemirror_mode": {
    "name": "ipython",
    "version": 3
   },
   "file_extension": ".py",
   "mimetype": "text/x-python",
   "name": "python",
   "nbconvert_exporter": "python",
   "pygments_lexer": "ipython3",
   "version": "3.9.15"
  }
 },
 "nbformat": 4,
 "nbformat_minor": 5
}
