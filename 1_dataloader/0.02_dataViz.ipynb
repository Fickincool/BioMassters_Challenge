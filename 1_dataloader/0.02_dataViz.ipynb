{
 "cells": [
  {
   "cell_type": "code",
   "execution_count": 1,
   "id": "81299bd4-4b6a-4b05-94a1-278658a0d5ca",
   "metadata": {},
   "outputs": [],
   "source": [
    "import bioMass.dataViz as dv\n",
    "from bioMass.dataloader2 import SentinelYearlyDataset\n",
    "import matplotlib.pyplot as plt\n",
    "import torch\n",
    "\n",
    "%config Completer.use_jedi = False\n",
    "%load_ext autoreload\n",
    "%autoreload 2"
   ]
  },
  {
   "cell_type": "code",
   "execution_count": 2,
   "id": "37e8dbb1-e6b0-47de-9604-4c80b1fae233",
   "metadata": {},
   "outputs": [
    {
     "data": {
      "text/plain": [
       "8689"
      ]
     },
     "execution_count": 2,
     "metadata": {},
     "output_type": "execute_result"
    }
   ],
   "source": [
    "# dir_tiles = '/home/ubuntu/Thesis/backup_data/bioMass_data/train_PCA_warm/'\n",
    "# dir_target = '/home/ubuntu/Thesis/backup_data/bioMass_data/train_agbm/'\n",
    "\n",
    "dataset = SentinelYearlyDataset(is_train=True)\n",
    "len(dataset)"
   ]
  },
  {
   "cell_type": "code",
   "execution_count": 3,
   "id": "3cf6c1e5-4702-4323-8e6c-9d984e6f24f1",
   "metadata": {},
   "outputs": [
    {
     "data": {
      "text/plain": [
       "'0003d2eb'"
      ]
     },
     "execution_count": 3,
     "metadata": {},
     "output_type": "execute_result"
    }
   ],
   "source": [
    "dataset.tile_list[0]"
   ]
  },
  {
   "cell_type": "code",
   "execution_count": 4,
   "id": "f1525e97-2423-4303-aee8-b8ad410bf826",
   "metadata": {},
   "outputs": [],
   "source": [
    "channel_map = {\n",
    "    0: 'S2-B2: Blue-10m',\n",
    "    1: 'S2-B3: Green-10m',\n",
    "    2: 'S2-B4: Red-10m',\n",
    "    3: 'S2-B5: VegRed-704nm-20m',\n",
    "    4: 'S2-B6: VegRed-740nm-20m',\n",
    "    5: 'S2-B7: VegRed-780nm-20m',\n",
    "    6: 'S2-B8: NIR-833nm-10m',\n",
    "    7: 'S2-B8A: NarrowNIR-864nm-20m',\n",
    "    8: 'S2-B11: SWIR-1610nm-20m',\n",
    "    9: 'S2-B12: SWIR-2200nm-20m',\n",
    "    10: 'S2-CLP: CloudProb-160m',\n",
    "    11: 'S1-VV-Asc: Cband-10m',\n",
    "    12: 'S1-VH-Asc: Cband-10m',\n",
    "    13: 'S1-VV-Desc: Cband-10m',\n",
    "    14: 'S1-VH-Desc: Cband-10m'\n",
    "}\n",
    "\n",
    "month_map = {\n",
    "    0: 'Sep', 1: 'Oct', 2: 'Nov', 3: 'Dec',\n",
    "    4: 'Jan', 5: 'Feb', 6: 'Mar', 7: 'Apr',\n",
    "    8: 'May', 9: 'Jun', 10: 'Jul', 11: 'Aug'\n",
    "}\n",
    "\n",
    "plot_channels = {\n",
    "    0: {'s2_rgb_idxs': [2, 1, 0], 'title': 'RGB'}, # RGB image, special case \n",
    "    1: {'data': 'target', 'title': 'AGBM'}, # AGBM target data, special case \n",
    "    2: {'channel_idx': 6},  # general case of visualizing by channel_index \n",
    "    3: {'channel_idx': 10},\n",
    "    4: {'channel_idx': 12},\n",
    "    5: {'channel_idx': 13}, \n",
    "    # 6: {'channel_idx': 16},\n",
    "    # 7: {'s1_rgb_idxs': [11, 12, 16], 'title': 'SAR-RGB: VV,VH,VV/VH'}, # SAR psuedo-RGB, special case \n",
    "}"
   ]
  },
  {
   "cell_type": "code",
   "execution_count": 5,
   "id": "f0779964-c1db-45dc-9fcf-cfd6d2d84803",
   "metadata": {},
   "outputs": [],
   "source": [
    "def plot_by_tile_index(dataset, tile_idx, plot_channels, channel_map):\n",
    "    sample = dataset[tile_idx]\n",
    "    chipid = dataset.tile_list[tile_idx]\n",
    "    \n",
    "    tile_name = f'Chip {chipid}'\n",
    "    \n",
    "    data = torch.concat((sample['image_s2'], sample['image_s1']))\n",
    "    \n",
    "    dv.plot_bands(tile=data.detach().cpu(),\n",
    "               target=sample['label'].detach().cpu(),\n",
    "               tile_name=tile_name,\n",
    "               plot_channels=plot_channels,\n",
    "               channel_map=channel_map\n",
    "              )"
   ]
  },
  {
   "cell_type": "code",
   "execution_count": 6,
   "id": "1a7d749c-d28e-43c3-a2ea-bc3a8c3230e5",
   "metadata": {},
   "outputs": [
    {
     "name": "stderr",
     "output_type": "stream",
     "text": [
      "/vol/data2/BioMassters_Challenge/bioMass/bioMass/dataloader2.py:120: UserWarning: 0003d2eb_S2_07.tif had between 50% and 80% zeros in at least one band\n",
      "  warnings.warn(f'{problematic_file} had between 50% and 80% zeros in at least one band')\n",
      "/vol/data2/BioMassters_Challenge/bioMass/bioMass/dataloader2.py:120: UserWarning: 0003d2eb_S2_10.tif had between 50% and 80% zeros in at least one band\n",
      "  warnings.warn(f'{problematic_file} had between 50% and 80% zeros in at least one band')\n"
     ]
    },
    {
     "ename": "RuntimeError",
     "evalue": "Sizes of tensors must match except in dimension 0. Expected size 11 but got size 4 for tensor number 1 in the list.",
     "output_type": "error",
     "traceback": [
      "\u001b[0;31m---------------------------------------------------------------------------\u001b[0m",
      "\u001b[0;31mRuntimeError\u001b[0m                              Traceback (most recent call last)",
      "Cell \u001b[0;32mIn[6], line 1\u001b[0m\n\u001b[0;32m----> 1\u001b[0m \u001b[43mplot_by_tile_index\u001b[49m\u001b[43m(\u001b[49m\u001b[43mdataset\u001b[49m\u001b[43m,\u001b[49m\u001b[43m \u001b[49m\u001b[38;5;241;43m0\u001b[39;49m\u001b[43m,\u001b[49m\u001b[43m \u001b[49m\u001b[43mplot_channels\u001b[49m\u001b[43m,\u001b[49m\u001b[43m \u001b[49m\u001b[43mchannel_map\u001b[49m\u001b[43m)\u001b[49m\n",
      "Cell \u001b[0;32mIn[5], line 7\u001b[0m, in \u001b[0;36mplot_by_tile_index\u001b[0;34m(dataset, tile_idx, plot_channels, channel_map)\u001b[0m\n\u001b[1;32m      3\u001b[0m chipid \u001b[38;5;241m=\u001b[39m dataset\u001b[38;5;241m.\u001b[39mtile_list[tile_idx]\n\u001b[1;32m      5\u001b[0m tile_name \u001b[38;5;241m=\u001b[39m \u001b[38;5;124mf\u001b[39m\u001b[38;5;124m'\u001b[39m\u001b[38;5;124mChip \u001b[39m\u001b[38;5;132;01m{\u001b[39;00mchipid\u001b[38;5;132;01m}\u001b[39;00m\u001b[38;5;124m'\u001b[39m\n\u001b[0;32m----> 7\u001b[0m data \u001b[38;5;241m=\u001b[39m \u001b[43mtorch\u001b[49m\u001b[38;5;241;43m.\u001b[39;49m\u001b[43mconcat\u001b[49m\u001b[43m(\u001b[49m\u001b[43m(\u001b[49m\u001b[43msample\u001b[49m\u001b[43m[\u001b[49m\u001b[38;5;124;43m'\u001b[39;49m\u001b[38;5;124;43mimage_s2\u001b[39;49m\u001b[38;5;124;43m'\u001b[39;49m\u001b[43m]\u001b[49m\u001b[43m,\u001b[49m\u001b[43m \u001b[49m\u001b[43msample\u001b[49m\u001b[43m[\u001b[49m\u001b[38;5;124;43m'\u001b[39;49m\u001b[38;5;124;43mimage_s1\u001b[39;49m\u001b[38;5;124;43m'\u001b[39;49m\u001b[43m]\u001b[49m\u001b[43m)\u001b[49m\u001b[43m)\u001b[49m\n\u001b[1;32m      9\u001b[0m dv\u001b[38;5;241m.\u001b[39mplot_bands(tile\u001b[38;5;241m=\u001b[39mdata\u001b[38;5;241m.\u001b[39mdetach()\u001b[38;5;241m.\u001b[39mcpu(),\n\u001b[1;32m     10\u001b[0m            target\u001b[38;5;241m=\u001b[39msample[\u001b[38;5;124m'\u001b[39m\u001b[38;5;124mlabel\u001b[39m\u001b[38;5;124m'\u001b[39m]\u001b[38;5;241m.\u001b[39mdetach()\u001b[38;5;241m.\u001b[39mcpu(),\n\u001b[1;32m     11\u001b[0m            tile_name\u001b[38;5;241m=\u001b[39mtile_name,\n\u001b[1;32m     12\u001b[0m            plot_channels\u001b[38;5;241m=\u001b[39mplot_channels,\n\u001b[1;32m     13\u001b[0m            channel_map\u001b[38;5;241m=\u001b[39mchannel_map\n\u001b[1;32m     14\u001b[0m           )\n",
      "\u001b[0;31mRuntimeError\u001b[0m: Sizes of tensors must match except in dimension 0. Expected size 11 but got size 4 for tensor number 1 in the list."
     ]
    }
   ],
   "source": [
    "plot_by_tile_index(dataset, 0, plot_channels, channel_map)"
   ]
  },
  {
   "cell_type": "code",
   "execution_count": null,
   "id": "5ad3850f-75fe-49e0-9316-9a2a63e7c646",
   "metadata": {},
   "outputs": [],
   "source": []
  }
 ],
 "metadata": {
  "kernelspec": {
   "display_name": "Python 3 (ipykernel)",
   "language": "python",
   "name": "python3"
  },
  "language_info": {
   "codemirror_mode": {
    "name": "ipython",
    "version": 3
   },
   "file_extension": ".py",
   "mimetype": "text/x-python",
   "name": "python",
   "nbconvert_exporter": "python",
   "pygments_lexer": "ipython3",
   "version": "3.9.15"
  }
 },
 "nbformat": 4,
 "nbformat_minor": 5
}
